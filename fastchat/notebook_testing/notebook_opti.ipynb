{
 "cells": [
  {
   "cell_type": "code",
   "execution_count": null,
   "metadata": {},
   "outputs": [],
   "source": [
    "from transformers.trainer import (    \n",
    "    deepspeed_init,\n",
    "    Accelerator,\n",
    "    )\n",
    "from transformers import Trainer\n",
    "from accelerate.utils import DeepSpeedPlugin"
   ]
  },
  {
   "cell_type": "code",
   "execution_count": null,
   "metadata": {},
   "outputs": [],
   "source": [
    "self.args.deepspeed_plugin = DeepSpeedPlugin(hf_ds_config=self.args.hf_deepspeed_config)"
   ]
  },
  {
   "cell_type": "code",
   "execution_count": null,
   "metadata": {},
   "outputs": [],
   "source": [
    "param_groups"
   ]
  },
  {
   "cell_type": "code",
   "execution_count": 1,
   "metadata": {},
   "outputs": [
    {
     "data": {
      "application/vnd.jupyter.widget-view+json": {
       "model_id": "37eeed4c7fd24b2bb7d8e59921e5b66b",
       "version_major": 2,
       "version_minor": 0
      },
      "text/plain": [
       "Loading checkpoint shards:   0%|          | 0/2 [00:00<?, ?it/s]"
      ]
     },
     "metadata": {},
     "output_type": "display_data"
    }
   ],
   "source": [
    "from transformers import AutoModelForCausalLM\n",
    "\n",
    "model_path = '/mnt/data2/mxdi/archive/hf-mirror/llama-7b'\n",
    "model = AutoModelForCausalLM.from_pretrained(model_path)\n",
    "lora_path = '/mnt/data2/mxdi/archive/FastChat/checkpoints/rank1lora/0101'\n",
    "\n",
    "from peft import PeftModel\n",
    "model = PeftModel.from_pretrained(model,lora_path)\n"
   ]
  },
  {
   "cell_type": "code",
   "execution_count": 9,
   "metadata": {},
   "outputs": [],
   "source": [
    "lora_params = [p for n, p in model.named_parameters() if \"lora_\" in n]"
   ]
  },
  {
   "cell_type": "code",
   "execution_count": 10,
   "metadata": {},
   "outputs": [],
   "source": [
    "lora_names = [n for n, p in model.named_parameters() if \"lora_\" in n]"
   ]
  },
  {
   "cell_type": "code",
   "execution_count": 11,
   "metadata": {},
   "outputs": [
    {
     "data": {
      "text/plain": [
       "['base_model.model.model.layers.0.self_attn.q_proj.lora_A.default.weight',\n",
       " 'base_model.model.model.layers.0.self_attn.q_proj.lora_B.default.weight',\n",
       " 'base_model.model.model.layers.0.self_attn.v_proj.lora_A.default.weight',\n",
       " 'base_model.model.model.layers.0.self_attn.v_proj.lora_B.default.weight',\n",
       " 'base_model.model.model.layers.1.self_attn.q_proj.lora_A.default.weight',\n",
       " 'base_model.model.model.layers.1.self_attn.q_proj.lora_B.default.weight',\n",
       " 'base_model.model.model.layers.1.self_attn.v_proj.lora_A.default.weight',\n",
       " 'base_model.model.model.layers.1.self_attn.v_proj.lora_B.default.weight',\n",
       " 'base_model.model.model.layers.2.self_attn.q_proj.lora_A.default.weight',\n",
       " 'base_model.model.model.layers.2.self_attn.q_proj.lora_B.default.weight',\n",
       " 'base_model.model.model.layers.2.self_attn.v_proj.lora_A.default.weight',\n",
       " 'base_model.model.model.layers.2.self_attn.v_proj.lora_B.default.weight',\n",
       " 'base_model.model.model.layers.3.self_attn.q_proj.lora_A.default.weight',\n",
       " 'base_model.model.model.layers.3.self_attn.q_proj.lora_B.default.weight',\n",
       " 'base_model.model.model.layers.3.self_attn.v_proj.lora_A.default.weight',\n",
       " 'base_model.model.model.layers.3.self_attn.v_proj.lora_B.default.weight',\n",
       " 'base_model.model.model.layers.4.self_attn.q_proj.lora_A.default.weight',\n",
       " 'base_model.model.model.layers.4.self_attn.q_proj.lora_B.default.weight',\n",
       " 'base_model.model.model.layers.4.self_attn.v_proj.lora_A.default.weight',\n",
       " 'base_model.model.model.layers.4.self_attn.v_proj.lora_B.default.weight',\n",
       " 'base_model.model.model.layers.5.self_attn.q_proj.lora_A.default.weight',\n",
       " 'base_model.model.model.layers.5.self_attn.q_proj.lora_B.default.weight',\n",
       " 'base_model.model.model.layers.5.self_attn.v_proj.lora_A.default.weight',\n",
       " 'base_model.model.model.layers.5.self_attn.v_proj.lora_B.default.weight',\n",
       " 'base_model.model.model.layers.6.self_attn.q_proj.lora_A.default.weight',\n",
       " 'base_model.model.model.layers.6.self_attn.q_proj.lora_B.default.weight',\n",
       " 'base_model.model.model.layers.6.self_attn.v_proj.lora_A.default.weight',\n",
       " 'base_model.model.model.layers.6.self_attn.v_proj.lora_B.default.weight',\n",
       " 'base_model.model.model.layers.7.self_attn.q_proj.lora_A.default.weight',\n",
       " 'base_model.model.model.layers.7.self_attn.q_proj.lora_B.default.weight',\n",
       " 'base_model.model.model.layers.7.self_attn.v_proj.lora_A.default.weight',\n",
       " 'base_model.model.model.layers.7.self_attn.v_proj.lora_B.default.weight',\n",
       " 'base_model.model.model.layers.8.self_attn.q_proj.lora_A.default.weight',\n",
       " 'base_model.model.model.layers.8.self_attn.q_proj.lora_B.default.weight',\n",
       " 'base_model.model.model.layers.8.self_attn.v_proj.lora_A.default.weight',\n",
       " 'base_model.model.model.layers.8.self_attn.v_proj.lora_B.default.weight',\n",
       " 'base_model.model.model.layers.9.self_attn.q_proj.lora_A.default.weight',\n",
       " 'base_model.model.model.layers.9.self_attn.q_proj.lora_B.default.weight',\n",
       " 'base_model.model.model.layers.9.self_attn.v_proj.lora_A.default.weight',\n",
       " 'base_model.model.model.layers.9.self_attn.v_proj.lora_B.default.weight',\n",
       " 'base_model.model.model.layers.10.self_attn.q_proj.lora_A.default.weight',\n",
       " 'base_model.model.model.layers.10.self_attn.q_proj.lora_B.default.weight',\n",
       " 'base_model.model.model.layers.10.self_attn.v_proj.lora_A.default.weight',\n",
       " 'base_model.model.model.layers.10.self_attn.v_proj.lora_B.default.weight',\n",
       " 'base_model.model.model.layers.11.self_attn.q_proj.lora_A.default.weight',\n",
       " 'base_model.model.model.layers.11.self_attn.q_proj.lora_B.default.weight',\n",
       " 'base_model.model.model.layers.11.self_attn.v_proj.lora_A.default.weight',\n",
       " 'base_model.model.model.layers.11.self_attn.v_proj.lora_B.default.weight',\n",
       " 'base_model.model.model.layers.12.self_attn.q_proj.lora_A.default.weight',\n",
       " 'base_model.model.model.layers.12.self_attn.q_proj.lora_B.default.weight',\n",
       " 'base_model.model.model.layers.12.self_attn.v_proj.lora_A.default.weight',\n",
       " 'base_model.model.model.layers.12.self_attn.v_proj.lora_B.default.weight',\n",
       " 'base_model.model.model.layers.13.self_attn.q_proj.lora_A.default.weight',\n",
       " 'base_model.model.model.layers.13.self_attn.q_proj.lora_B.default.weight',\n",
       " 'base_model.model.model.layers.13.self_attn.v_proj.lora_A.default.weight',\n",
       " 'base_model.model.model.layers.13.self_attn.v_proj.lora_B.default.weight',\n",
       " 'base_model.model.model.layers.14.self_attn.q_proj.lora_A.default.weight',\n",
       " 'base_model.model.model.layers.14.self_attn.q_proj.lora_B.default.weight',\n",
       " 'base_model.model.model.layers.14.self_attn.v_proj.lora_A.default.weight',\n",
       " 'base_model.model.model.layers.14.self_attn.v_proj.lora_B.default.weight',\n",
       " 'base_model.model.model.layers.15.self_attn.q_proj.lora_A.default.weight',\n",
       " 'base_model.model.model.layers.15.self_attn.q_proj.lora_B.default.weight',\n",
       " 'base_model.model.model.layers.15.self_attn.v_proj.lora_A.default.weight',\n",
       " 'base_model.model.model.layers.15.self_attn.v_proj.lora_B.default.weight',\n",
       " 'base_model.model.model.layers.16.self_attn.q_proj.lora_A.default.weight',\n",
       " 'base_model.model.model.layers.16.self_attn.q_proj.lora_B.default.weight',\n",
       " 'base_model.model.model.layers.16.self_attn.v_proj.lora_A.default.weight',\n",
       " 'base_model.model.model.layers.16.self_attn.v_proj.lora_B.default.weight',\n",
       " 'base_model.model.model.layers.17.self_attn.q_proj.lora_A.default.weight',\n",
       " 'base_model.model.model.layers.17.self_attn.q_proj.lora_B.default.weight',\n",
       " 'base_model.model.model.layers.17.self_attn.v_proj.lora_A.default.weight',\n",
       " 'base_model.model.model.layers.17.self_attn.v_proj.lora_B.default.weight',\n",
       " 'base_model.model.model.layers.18.self_attn.q_proj.lora_A.default.weight',\n",
       " 'base_model.model.model.layers.18.self_attn.q_proj.lora_B.default.weight',\n",
       " 'base_model.model.model.layers.18.self_attn.v_proj.lora_A.default.weight',\n",
       " 'base_model.model.model.layers.18.self_attn.v_proj.lora_B.default.weight',\n",
       " 'base_model.model.model.layers.19.self_attn.q_proj.lora_A.default.weight',\n",
       " 'base_model.model.model.layers.19.self_attn.q_proj.lora_B.default.weight',\n",
       " 'base_model.model.model.layers.19.self_attn.v_proj.lora_A.default.weight',\n",
       " 'base_model.model.model.layers.19.self_attn.v_proj.lora_B.default.weight',\n",
       " 'base_model.model.model.layers.20.self_attn.q_proj.lora_A.default.weight',\n",
       " 'base_model.model.model.layers.20.self_attn.q_proj.lora_B.default.weight',\n",
       " 'base_model.model.model.layers.20.self_attn.v_proj.lora_A.default.weight',\n",
       " 'base_model.model.model.layers.20.self_attn.v_proj.lora_B.default.weight',\n",
       " 'base_model.model.model.layers.21.self_attn.q_proj.lora_A.default.weight',\n",
       " 'base_model.model.model.layers.21.self_attn.q_proj.lora_B.default.weight',\n",
       " 'base_model.model.model.layers.21.self_attn.v_proj.lora_A.default.weight',\n",
       " 'base_model.model.model.layers.21.self_attn.v_proj.lora_B.default.weight',\n",
       " 'base_model.model.model.layers.22.self_attn.q_proj.lora_A.default.weight',\n",
       " 'base_model.model.model.layers.22.self_attn.q_proj.lora_B.default.weight',\n",
       " 'base_model.model.model.layers.22.self_attn.v_proj.lora_A.default.weight',\n",
       " 'base_model.model.model.layers.22.self_attn.v_proj.lora_B.default.weight',\n",
       " 'base_model.model.model.layers.23.self_attn.q_proj.lora_A.default.weight',\n",
       " 'base_model.model.model.layers.23.self_attn.q_proj.lora_B.default.weight',\n",
       " 'base_model.model.model.layers.23.self_attn.v_proj.lora_A.default.weight',\n",
       " 'base_model.model.model.layers.23.self_attn.v_proj.lora_B.default.weight',\n",
       " 'base_model.model.model.layers.24.self_attn.q_proj.lora_A.default.weight',\n",
       " 'base_model.model.model.layers.24.self_attn.q_proj.lora_B.default.weight',\n",
       " 'base_model.model.model.layers.24.self_attn.v_proj.lora_A.default.weight',\n",
       " 'base_model.model.model.layers.24.self_attn.v_proj.lora_B.default.weight',\n",
       " 'base_model.model.model.layers.25.self_attn.q_proj.lora_A.default.weight',\n",
       " 'base_model.model.model.layers.25.self_attn.q_proj.lora_B.default.weight',\n",
       " 'base_model.model.model.layers.25.self_attn.v_proj.lora_A.default.weight',\n",
       " 'base_model.model.model.layers.25.self_attn.v_proj.lora_B.default.weight',\n",
       " 'base_model.model.model.layers.26.self_attn.q_proj.lora_A.default.weight',\n",
       " 'base_model.model.model.layers.26.self_attn.q_proj.lora_B.default.weight',\n",
       " 'base_model.model.model.layers.26.self_attn.v_proj.lora_A.default.weight',\n",
       " 'base_model.model.model.layers.26.self_attn.v_proj.lora_B.default.weight',\n",
       " 'base_model.model.model.layers.27.self_attn.q_proj.lora_A.default.weight',\n",
       " 'base_model.model.model.layers.27.self_attn.q_proj.lora_B.default.weight',\n",
       " 'base_model.model.model.layers.27.self_attn.v_proj.lora_A.default.weight',\n",
       " 'base_model.model.model.layers.27.self_attn.v_proj.lora_B.default.weight',\n",
       " 'base_model.model.model.layers.28.self_attn.q_proj.lora_A.default.weight',\n",
       " 'base_model.model.model.layers.28.self_attn.q_proj.lora_B.default.weight',\n",
       " 'base_model.model.model.layers.28.self_attn.v_proj.lora_A.default.weight',\n",
       " 'base_model.model.model.layers.28.self_attn.v_proj.lora_B.default.weight',\n",
       " 'base_model.model.model.layers.29.self_attn.q_proj.lora_A.default.weight',\n",
       " 'base_model.model.model.layers.29.self_attn.q_proj.lora_B.default.weight',\n",
       " 'base_model.model.model.layers.29.self_attn.v_proj.lora_A.default.weight',\n",
       " 'base_model.model.model.layers.29.self_attn.v_proj.lora_B.default.weight',\n",
       " 'base_model.model.model.layers.30.self_attn.q_proj.lora_A.default.weight',\n",
       " 'base_model.model.model.layers.30.self_attn.q_proj.lora_B.default.weight',\n",
       " 'base_model.model.model.layers.30.self_attn.v_proj.lora_A.default.weight',\n",
       " 'base_model.model.model.layers.30.self_attn.v_proj.lora_B.default.weight',\n",
       " 'base_model.model.model.layers.31.self_attn.q_proj.lora_A.default.weight',\n",
       " 'base_model.model.model.layers.31.self_attn.q_proj.lora_B.default.weight',\n",
       " 'base_model.model.model.layers.31.self_attn.v_proj.lora_A.default.weight',\n",
       " 'base_model.model.model.layers.31.self_attn.v_proj.lora_B.default.weight']"
      ]
     },
     "execution_count": 11,
     "metadata": {},
     "output_type": "execute_result"
    }
   ],
   "source": [
    "lora_names"
   ]
  },
  {
   "cell_type": "code",
   "execution_count": 14,
   "metadata": {},
   "outputs": [
    {
     "data": {
      "text/plain": [
       "torch.Size([1, 4096])"
      ]
     },
     "execution_count": 14,
     "metadata": {},
     "output_type": "execute_result"
    }
   ],
   "source": [
    "lora_params[0].shape"
   ]
  },
  {
   "cell_type": "code",
   "execution_count": null,
   "metadata": {},
   "outputs": [],
   "source": [
    "_, self.optimizer, self.lr_scheduler = self.accelerator.prepare(\n",
    "    self.model, self.optimizer, self.lr_scheduler\n",
    ")"
   ]
  }
 ],
 "metadata": {
  "kernelspec": {
   "display_name": "Python 3",
   "language": "python",
   "name": "python3"
  },
  "language_info": {
   "codemirror_mode": {
    "name": "ipython",
    "version": 3
   },
   "file_extension": ".py",
   "mimetype": "text/x-python",
   "name": "python",
   "nbconvert_exporter": "python",
   "pygments_lexer": "ipython3",
   "version": "3.10.12"
  }
 },
 "nbformat": 4,
 "nbformat_minor": 2
}

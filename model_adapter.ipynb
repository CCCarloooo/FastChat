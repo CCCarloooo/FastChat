{
 "cells": [
  {
   "cell_type": "code",
   "execution_count": 1,
   "metadata": {},
   "outputs": [
    {
     "name": "stdout",
     "output_type": "stream",
     "text": [
      "[2023-12-20 13:22:37,037] [INFO] [real_accelerator.py:110:get_accelerator] Setting ds_accelerator to cuda (auto detect)\n"
     ]
    },
    {
     "name": "stderr",
     "output_type": "stream",
     "text": [
      "You are using the legacy behaviour of the <class 'transformers.models.llama.tokenization_llama.LlamaTokenizer'>. This means that tokens that come after special tokens will not be properly handled. We recommend you to read the related pull request available at https://github.com/huggingface/transformers/pull/24565\n"
     ]
    },
    {
     "data": {
      "text/plain": [
       "('/mnt/data2/mxdi/archive/models/rank8openllama3b/tokenizer_config.json',\n",
       " '/mnt/data2/mxdi/archive/models/rank8openllama3b/special_tokens_map.json',\n",
       " '/mnt/data2/mxdi/archive/models/rank8openllama3b/tokenizer.model',\n",
       " '/mnt/data2/mxdi/archive/models/rank8openllama3b/added_tokens.json',\n",
       " '/mnt/data2/mxdi/archive/models/rank8openllama3b/tokenizer.json')"
      ]
     },
     "execution_count": 1,
     "metadata": {},
     "output_type": "execute_result"
    },
    {
     "ename": "",
     "evalue": "",
     "output_type": "error",
     "traceback": [
      "\u001b[1;31m在当前单元格或上一个单元格中执行代码时 Kernel 崩溃。请查看单元格中的代码，以确定故障的可能原因。有关详细信息，请单击 <a href='https://aka.ms/vscodeJupyterKernelCrash'>此处</a>。有关更多详细信息，请查看 Jupyter <a href='command:jupyter.viewOutput'>log</a>。"
     ]
    }
   ],
   "source": [
    "from transformers import AutoModelForCausalLM, AutoTokenizer\n",
    "import torch\n",
    "from peft import PeftModel\n",
    "\n",
    "base = '/mnt/data2/mxdi/archive/hf-mirror/open_llama_3b'\n",
    "base_model = AutoModelForCausalLM.from_pretrained(base,torch_dtype=torch.float16)\n",
    "tokenizer = AutoTokenizer.from_pretrained(base)\n",
    "pth_path = '/mnt/data2/mxdi/archive/FastChat/checkpoints'\n",
    "\n",
    "peft_model = PeftModel.from_pretrained(\n",
    "    base_model,\n",
    "    pth_path,\n",
    "    torch_dtype=torch.float16,\n",
    ")\n",
    "\n",
    "model = peft_model.merge_and_unload()\n",
    "save_path = '/mnt/data2/mxdi/archive/models/rank8openllama3b'\n",
    "model.save_pretrained(save_path)\n",
    "tokenizer.save_pretrained(save_path)"
   ]
  },
  {
   "cell_type": "code",
   "execution_count": 1,
   "metadata": {},
   "outputs": [
    {
     "name": "stderr",
     "output_type": "stream",
     "text": [
      "/home/mxd/miniconda3/envs/xeval/lib/python3.10/site-packages/tqdm/auto.py:21: TqdmWarning: IProgress not found. Please update jupyter and ipywidgets. See https://ipywidgets.readthedocs.io/en/stable/user_install.html\n",
      "  from .autonotebook import tqdm as notebook_tqdm\n",
      "Loading checkpoint shards: 100%|██████████| 2/2 [00:01<00:00,  1.20it/s]\n"
     ]
    }
   ],
   "source": [
    "import torch\n",
    "from transformers import AutoTokenizer, AutoModelForCausalLM\n",
    "from peft import PeftModel\n",
    "\n",
    "device = torch.device('cuda' if torch.cuda.is_available() else 'cpu')\n",
    "model_path = '/mnt/data2/mxdi/archive/hf-mirror/llama-7b'\n",
    "model = AutoModelForCausalLM.from_pretrained(model_path,torch_dtype=torch.float16)\n",
    "tokenizer = AutoTokenizer.from_pretrained(model_path)\n"
   ]
  },
  {
   "cell_type": "code",
   "execution_count": 2,
   "metadata": {},
   "outputs": [
    {
     "data": {
      "text/plain": [
       "LlamaForCausalLM(\n",
       "  (model): LlamaModel(\n",
       "    (embed_tokens): Embedding(32000, 4096, padding_idx=0)\n",
       "    (layers): ModuleList(\n",
       "      (0-31): 32 x LlamaDecoderLayer(\n",
       "        (self_attn): LlamaSdpaAttention(\n",
       "          (q_proj): Linear(in_features=4096, out_features=4096, bias=False)\n",
       "          (k_proj): Linear(in_features=4096, out_features=4096, bias=False)\n",
       "          (v_proj): Linear(in_features=4096, out_features=4096, bias=False)\n",
       "          (o_proj): Linear(in_features=4096, out_features=4096, bias=False)\n",
       "          (rotary_emb): LlamaRotaryEmbedding()\n",
       "        )\n",
       "        (mlp): LlamaMLP(\n",
       "          (gate_proj): Linear(in_features=4096, out_features=11008, bias=False)\n",
       "          (up_proj): Linear(in_features=4096, out_features=11008, bias=False)\n",
       "          (down_proj): Linear(in_features=11008, out_features=4096, bias=False)\n",
       "          (act_fn): SiLU()\n",
       "        )\n",
       "        (input_layernorm): LlamaRMSNorm()\n",
       "        (post_attention_layernorm): LlamaRMSNorm()\n",
       "      )\n",
       "    )\n",
       "    (norm): LlamaRMSNorm()\n",
       "  )\n",
       "  (lm_head): Linear(in_features=4096, out_features=32000, bias=False)\n",
       ")"
      ]
     },
     "execution_count": 2,
     "metadata": {},
     "output_type": "execute_result"
    }
   ],
   "source": [
    "model"
   ]
  },
  {
   "cell_type": "code",
   "execution_count": 3,
   "metadata": {},
   "outputs": [
    {
     "data": {
      "text/plain": [
       "True"
      ]
     },
     "execution_count": 3,
     "metadata": {},
     "output_type": "execute_result"
    }
   ],
   "source": [
    "torch.cuda.is_available() "
   ]
  },
  {
   "cell_type": "code",
   "execution_count": 6,
   "metadata": {},
   "outputs": [
    {
     "data": {
      "text/plain": [
       "LlamaForCausalLM(\n",
       "  (model): LlamaModel(\n",
       "    (embed_tokens): Embedding(32000, 4096, padding_idx=0)\n",
       "    (layers): ModuleList(\n",
       "      (0-31): 32 x LlamaDecoderLayer(\n",
       "        (self_attn): LlamaSdpaAttention(\n",
       "          (q_proj): lora.Linear(\n",
       "            (base_layer): Linear(in_features=4096, out_features=4096, bias=False)\n",
       "            (lora_dropout): ModuleDict(\n",
       "              (default): Dropout(p=0.05, inplace=False)\n",
       "            )\n",
       "            (lora_A): ModuleDict(\n",
       "              (default): Linear(in_features=4096, out_features=1, bias=False)\n",
       "            )\n",
       "            (lora_B): ModuleDict(\n",
       "              (default): Linear(in_features=1, out_features=4096, bias=False)\n",
       "            )\n",
       "            (lora_embedding_A): ParameterDict()\n",
       "            (lora_embedding_B): ParameterDict()\n",
       "          )\n",
       "          (k_proj): Linear(in_features=4096, out_features=4096, bias=False)\n",
       "          (v_proj): lora.Linear(\n",
       "            (base_layer): Linear(in_features=4096, out_features=4096, bias=False)\n",
       "            (lora_dropout): ModuleDict(\n",
       "              (default): Dropout(p=0.05, inplace=False)\n",
       "            )\n",
       "            (lora_A): ModuleDict(\n",
       "              (default): Linear(in_features=4096, out_features=1, bias=False)\n",
       "            )\n",
       "            (lora_B): ModuleDict(\n",
       "              (default): Linear(in_features=1, out_features=4096, bias=False)\n",
       "            )\n",
       "            (lora_embedding_A): ParameterDict()\n",
       "            (lora_embedding_B): ParameterDict()\n",
       "          )\n",
       "          (o_proj): Linear(in_features=4096, out_features=4096, bias=False)\n",
       "          (rotary_emb): LlamaRotaryEmbedding()\n",
       "        )\n",
       "        (mlp): LlamaMLP(\n",
       "          (gate_proj): Linear(in_features=4096, out_features=11008, bias=False)\n",
       "          (up_proj): Linear(in_features=4096, out_features=11008, bias=False)\n",
       "          (down_proj): Linear(in_features=11008, out_features=4096, bias=False)\n",
       "          (act_fn): SiLU()\n",
       "        )\n",
       "        (input_layernorm): LlamaRMSNorm()\n",
       "        (post_attention_layernorm): LlamaRMSNorm()\n",
       "      )\n",
       "    )\n",
       "    (norm): LlamaRMSNorm()\n",
       "  )\n",
       "  (lm_head): Linear(in_features=4096, out_features=32000, bias=False)\n",
       ")"
      ]
     },
     "execution_count": 6,
     "metadata": {},
     "output_type": "execute_result"
    }
   ],
   "source": [
    "model.to('cpu')"
   ]
  },
  {
   "cell_type": "code",
   "execution_count": 2,
   "metadata": {},
   "outputs": [],
   "source": [
    "pth_path = '/mnt/data2/mxdi/archive/FastChat/checkpoints/lora_rank8_shuffle/checkpoint-100'\n",
    "peft_model = PeftModel.from_pretrained(\n",
    "    model,\n",
    "    pth_path,\n",
    "    torch_dtype=torch.float16,\n",
    ")"
   ]
  },
  {
   "cell_type": "markdown",
   "metadata": {},
   "source": [
    "只能说雀食很奇怪\n",
    "\n",
    "* 加载model不用to是不会到device上的\n",
    "\n",
    "* 但是cpu的model再使用peft.from_pretrained的时候是会把部分加载到device上的\n",
    "\n",
    "* 但是device上的model再使用peft的时候，device上的存储占用是不会变化的"
   ]
  },
  {
   "cell_type": "code",
   "execution_count": 1,
   "metadata": {},
   "outputs": [
    {
     "data": {
      "application/vnd.jupyter.widget-view+json": {
       "model_id": "1deef74203884c338d24f0301b344a08",
       "version_major": 2,
       "version_minor": 0
      },
      "text/plain": [
       "Loading checkpoint shards:   0%|          | 0/2 [00:00<?, ?it/s]"
      ]
     },
     "metadata": {},
     "output_type": "display_data"
    }
   ],
   "source": [
    "import transformers\n",
    "\n",
    "model_name_or_path = '/mnt/data2/mxdi/archive/models/Llama-2-7b-hf'\n",
    "model = transformers.AutoModelForCausalLM.from_pretrained(\n",
    "    model_name_or_path)"
   ]
  },
  {
   "cell_type": "code",
   "execution_count": 3,
   "metadata": {},
   "outputs": [
    {
     "data": {
      "text/plain": [
       "LlamaForCausalLM(\n",
       "  (model): LlamaModel(\n",
       "    (embed_tokens): Embedding(32000, 4096, padding_idx=0)\n",
       "    (layers): ModuleList(\n",
       "      (0-31): 32 x LlamaDecoderLayer(\n",
       "        (self_attn): LlamaAttention(\n",
       "          (q_proj): Linear(in_features=4096, out_features=4096, bias=False)\n",
       "          (k_proj): Linear(in_features=4096, out_features=4096, bias=False)\n",
       "          (v_proj): Linear(in_features=4096, out_features=4096, bias=False)\n",
       "          (o_proj): Linear(in_features=4096, out_features=4096, bias=False)\n",
       "          (rotary_emb): LlamaRotaryEmbedding()\n",
       "        )\n",
       "        (mlp): LlamaMLP(\n",
       "          (gate_proj): Linear(in_features=4096, out_features=11008, bias=False)\n",
       "          (up_proj): Linear(in_features=4096, out_features=11008, bias=False)\n",
       "          (down_proj): Linear(in_features=11008, out_features=4096, bias=False)\n",
       "          (act_fn): SiLUActivation()\n",
       "        )\n",
       "        (input_layernorm): LlamaRMSNorm()\n",
       "        (post_attention_layernorm): LlamaRMSNorm()\n",
       "      )\n",
       "    )\n",
       "    (norm): LlamaRMSNorm()\n",
       "  )\n",
       "  (lm_head): Linear(in_features=4096, out_features=32000, bias=False)\n",
       ")"
      ]
     },
     "execution_count": 3,
     "metadata": {},
     "output_type": "execute_result"
    }
   ],
   "source": [
    "import torch\n",
    "\n",
    "device = torch.device(\"cuda:0\" )\n",
    "model.to(device)"
   ]
  },
  {
   "cell_type": "code",
   "execution_count": 7,
   "metadata": {},
   "outputs": [
    {
     "data": {
      "text/plain": [
       "Parameter containing:\n",
       "tensor([[ 1.2517e-06, -1.7881e-06, -4.3511e-06,  ...,  8.9407e-07,\n",
       "         -6.5565e-06,  8.9407e-07],\n",
       "        [ 1.8616e-03, -3.3722e-03,  3.9864e-04,  ..., -8.3008e-03,\n",
       "          2.5787e-03, -3.9368e-03],\n",
       "        [ 1.0986e-02,  9.8877e-03, -5.0964e-03,  ...,  2.5177e-03,\n",
       "          7.7057e-04, -5.0049e-03],\n",
       "        ...,\n",
       "        [-1.3977e-02, -2.7313e-03, -1.9897e-02,  ..., -1.0437e-02,\n",
       "          9.5825e-03, -1.8005e-03],\n",
       "        [-1.0742e-02,  9.3384e-03,  1.2939e-02,  ..., -3.3203e-02,\n",
       "         -1.6357e-02,  3.3875e-03],\n",
       "        [-8.3008e-03, -4.0588e-03, -1.1063e-03,  ...,  3.4790e-03,\n",
       "         -1.2939e-02,  3.1948e-05]], device='cuda:0', requires_grad=True)"
      ]
     },
     "execution_count": 7,
     "metadata": {},
     "output_type": "execute_result"
    }
   ],
   "source": [
    "next(model.parameters())"
   ]
  },
  {
   "cell_type": "code",
   "execution_count": 9,
   "metadata": {},
   "outputs": [
    {
     "data": {
      "text/plain": [
       "0"
      ]
     },
     "execution_count": 9,
     "metadata": {},
     "output_type": "execute_result"
    }
   ],
   "source": [
    "model.device.index"
   ]
  },
  {
   "cell_type": "markdown",
   "metadata": {},
   "source": [
    "# 加载模型from pth"
   ]
  },
  {
   "cell_type": "code",
   "execution_count": 2,
   "metadata": {},
   "outputs": [
    {
     "data": {
      "application/vnd.jupyter.widget-view+json": {
       "model_id": "c98b83a084dc4f968227e0c79e247328",
       "version_major": 2,
       "version_minor": 0
      },
      "text/plain": [
       "Loading checkpoint shards:   0%|          | 0/2 [00:00<?, ?it/s]"
      ]
     },
     "metadata": {},
     "output_type": "display_data"
    },
    {
     "data": {
      "text/plain": [
       "('/home/mxd/archive/FastChat/checkpoints/plora_r8_0121_interval400_1e-4_099_constant_all_save_10092/tokenizer_config.json',\n",
       " '/home/mxd/archive/FastChat/checkpoints/plora_r8_0121_interval400_1e-4_099_constant_all_save_10092/special_tokens_map.json',\n",
       " '/home/mxd/archive/FastChat/checkpoints/plora_r8_0121_interval400_1e-4_099_constant_all_save_10092/tokenizer.model',\n",
       " '/home/mxd/archive/FastChat/checkpoints/plora_r8_0121_interval400_1e-4_099_constant_all_save_10092/added_tokens.json',\n",
       " '/home/mxd/archive/FastChat/checkpoints/plora_r8_0121_interval400_1e-4_099_constant_all_save_10092/tokenizer.json')"
      ]
     },
     "execution_count": 2,
     "metadata": {},
     "output_type": "execute_result"
    }
   ],
   "source": [
    "from transformers import AutoTokenizer, AutoModelForCausalLM\n",
    "from peft import LoraConfig, get_peft_model\n",
    "import torch\n",
    "\n",
    "device = torch.device('cpu')\n",
    "base = '/home/mxd/archive/hf_mirror/llama-7b-hf'\n",
    "base_model = AutoModelForCausalLM.from_pretrained(base,torch_dtype=torch.float16)\n",
    "tokenizer = AutoTokenizer.from_pretrained(base)\n",
    "pth_path = '/home/mxd/archive/FastChat/checkpoints/plora_r8_0121_interval400_1e-4_099_constant_4-6save/5046-savemodel.pth'\n",
    "state_dict = torch.load(pth_path,map_location=device)\n",
    "lora_config = LoraConfig(\n",
    "    r=8,\n",
    "    lora_alpha=16,\n",
    "    target_modules=['q_proj','k_proj','v_proj','o_proj','gate_proj','up_proj','down_proj'],\n",
    "    lora_dropout=0.05,\n",
    "    bias=\"none\",\n",
    "    task_type=\"CAUSAL_LM\",\n",
    ")\n",
    "model = get_peft_model(base_model, lora_config)\n",
    "rotary_flag = False\n",
    "for keys in model.state_dict().keys():\n",
    "    if 'rotary_emb' in keys:\n",
    "        rotary_flag = True\n",
    "        break\n",
    "from collections import OrderedDict\n",
    "new_state_dict = OrderedDict()\n",
    "for k, v in state_dict.items():\n",
    "    if not rotary_flag:\n",
    "        if 'rotary_emb' in k:\n",
    "            continue\n",
    "\n",
    "    if 'module.' in k:\n",
    "        name = k[7:]\n",
    "    else:\n",
    "        name = k\n",
    "    new_state_dict[name] = v\n",
    "model.load_state_dict(new_state_dict)\n",
    "model = model.merge_and_unload()\n",
    "\n",
    "save_path = '/home/mxd/archive/FastChat/checkpoints/plora_r8_0121_interval400_1e-4_099_constant_all_save_12615'\n",
    "model.save_pretrained(save_path)\n",
    "tokenizer.save_pretrained(save_path)"
   ]
  },
  {
   "cell_type": "code",
   "execution_count": 7,
   "metadata": {},
   "outputs": [
    {
     "data": {
      "text/plain": [
       "odict_keys(['base_model.model.model.embed_tokens.weight', 'base_model.model.model.layers.0.self_attn.q_proj.base_layer.weight', 'base_model.model.model.layers.0.self_attn.q_proj.lora_A.default.weight', 'base_model.model.model.layers.0.self_attn.q_proj.lora_B.default.weight', 'base_model.model.model.layers.0.self_attn.k_proj.base_layer.weight', 'base_model.model.model.layers.0.self_attn.k_proj.lora_A.default.weight', 'base_model.model.model.layers.0.self_attn.k_proj.lora_B.default.weight', 'base_model.model.model.layers.0.self_attn.v_proj.base_layer.weight', 'base_model.model.model.layers.0.self_attn.v_proj.lora_A.default.weight', 'base_model.model.model.layers.0.self_attn.v_proj.lora_B.default.weight', 'base_model.model.model.layers.0.self_attn.o_proj.base_layer.weight', 'base_model.model.model.layers.0.self_attn.o_proj.lora_A.default.weight', 'base_model.model.model.layers.0.self_attn.o_proj.lora_B.default.weight', 'base_model.model.model.layers.0.self_attn.rotary_emb.inv_freq', 'base_model.model.model.layers.0.mlp.gate_proj.base_layer.weight', 'base_model.model.model.layers.0.mlp.gate_proj.lora_A.default.weight', 'base_model.model.model.layers.0.mlp.gate_proj.lora_B.default.weight', 'base_model.model.model.layers.0.mlp.up_proj.base_layer.weight', 'base_model.model.model.layers.0.mlp.up_proj.lora_A.default.weight', 'base_model.model.model.layers.0.mlp.up_proj.lora_B.default.weight', 'base_model.model.model.layers.0.mlp.down_proj.base_layer.weight', 'base_model.model.model.layers.0.mlp.down_proj.lora_A.default.weight', 'base_model.model.model.layers.0.mlp.down_proj.lora_B.default.weight', 'base_model.model.model.layers.0.input_layernorm.weight', 'base_model.model.model.layers.0.post_attention_layernorm.weight', 'base_model.model.model.layers.1.self_attn.q_proj.base_layer.weight', 'base_model.model.model.layers.1.self_attn.q_proj.lora_A.default.weight', 'base_model.model.model.layers.1.self_attn.q_proj.lora_B.default.weight', 'base_model.model.model.layers.1.self_attn.k_proj.base_layer.weight', 'base_model.model.model.layers.1.self_attn.k_proj.lora_A.default.weight', 'base_model.model.model.layers.1.self_attn.k_proj.lora_B.default.weight', 'base_model.model.model.layers.1.self_attn.v_proj.base_layer.weight', 'base_model.model.model.layers.1.self_attn.v_proj.lora_A.default.weight', 'base_model.model.model.layers.1.self_attn.v_proj.lora_B.default.weight', 'base_model.model.model.layers.1.self_attn.o_proj.base_layer.weight', 'base_model.model.model.layers.1.self_attn.o_proj.lora_A.default.weight', 'base_model.model.model.layers.1.self_attn.o_proj.lora_B.default.weight', 'base_model.model.model.layers.1.self_attn.rotary_emb.inv_freq', 'base_model.model.model.layers.1.mlp.gate_proj.base_layer.weight', 'base_model.model.model.layers.1.mlp.gate_proj.lora_A.default.weight', 'base_model.model.model.layers.1.mlp.gate_proj.lora_B.default.weight', 'base_model.model.model.layers.1.mlp.up_proj.base_layer.weight', 'base_model.model.model.layers.1.mlp.up_proj.lora_A.default.weight', 'base_model.model.model.layers.1.mlp.up_proj.lora_B.default.weight', 'base_model.model.model.layers.1.mlp.down_proj.base_layer.weight', 'base_model.model.model.layers.1.mlp.down_proj.lora_A.default.weight', 'base_model.model.model.layers.1.mlp.down_proj.lora_B.default.weight', 'base_model.model.model.layers.1.input_layernorm.weight', 'base_model.model.model.layers.1.post_attention_layernorm.weight', 'base_model.model.model.layers.2.self_attn.q_proj.base_layer.weight', 'base_model.model.model.layers.2.self_attn.q_proj.lora_A.default.weight', 'base_model.model.model.layers.2.self_attn.q_proj.lora_B.default.weight', 'base_model.model.model.layers.2.self_attn.k_proj.base_layer.weight', 'base_model.model.model.layers.2.self_attn.k_proj.lora_A.default.weight', 'base_model.model.model.layers.2.self_attn.k_proj.lora_B.default.weight', 'base_model.model.model.layers.2.self_attn.v_proj.base_layer.weight', 'base_model.model.model.layers.2.self_attn.v_proj.lora_A.default.weight', 'base_model.model.model.layers.2.self_attn.v_proj.lora_B.default.weight', 'base_model.model.model.layers.2.self_attn.o_proj.base_layer.weight', 'base_model.model.model.layers.2.self_attn.o_proj.lora_A.default.weight', 'base_model.model.model.layers.2.self_attn.o_proj.lora_B.default.weight', 'base_model.model.model.layers.2.self_attn.rotary_emb.inv_freq', 'base_model.model.model.layers.2.mlp.gate_proj.base_layer.weight', 'base_model.model.model.layers.2.mlp.gate_proj.lora_A.default.weight', 'base_model.model.model.layers.2.mlp.gate_proj.lora_B.default.weight', 'base_model.model.model.layers.2.mlp.up_proj.base_layer.weight', 'base_model.model.model.layers.2.mlp.up_proj.lora_A.default.weight', 'base_model.model.model.layers.2.mlp.up_proj.lora_B.default.weight', 'base_model.model.model.layers.2.mlp.down_proj.base_layer.weight', 'base_model.model.model.layers.2.mlp.down_proj.lora_A.default.weight', 'base_model.model.model.layers.2.mlp.down_proj.lora_B.default.weight', 'base_model.model.model.layers.2.input_layernorm.weight', 'base_model.model.model.layers.2.post_attention_layernorm.weight', 'base_model.model.model.layers.3.self_attn.q_proj.base_layer.weight', 'base_model.model.model.layers.3.self_attn.q_proj.lora_A.default.weight', 'base_model.model.model.layers.3.self_attn.q_proj.lora_B.default.weight', 'base_model.model.model.layers.3.self_attn.k_proj.base_layer.weight', 'base_model.model.model.layers.3.self_attn.k_proj.lora_A.default.weight', 'base_model.model.model.layers.3.self_attn.k_proj.lora_B.default.weight', 'base_model.model.model.layers.3.self_attn.v_proj.base_layer.weight', 'base_model.model.model.layers.3.self_attn.v_proj.lora_A.default.weight', 'base_model.model.model.layers.3.self_attn.v_proj.lora_B.default.weight', 'base_model.model.model.layers.3.self_attn.o_proj.base_layer.weight', 'base_model.model.model.layers.3.self_attn.o_proj.lora_A.default.weight', 'base_model.model.model.layers.3.self_attn.o_proj.lora_B.default.weight', 'base_model.model.model.layers.3.self_attn.rotary_emb.inv_freq', 'base_model.model.model.layers.3.mlp.gate_proj.base_layer.weight', 'base_model.model.model.layers.3.mlp.gate_proj.lora_A.default.weight', 'base_model.model.model.layers.3.mlp.gate_proj.lora_B.default.weight', 'base_model.model.model.layers.3.mlp.up_proj.base_layer.weight', 'base_model.model.model.layers.3.mlp.up_proj.lora_A.default.weight', 'base_model.model.model.layers.3.mlp.up_proj.lora_B.default.weight', 'base_model.model.model.layers.3.mlp.down_proj.base_layer.weight', 'base_model.model.model.layers.3.mlp.down_proj.lora_A.default.weight', 'base_model.model.model.layers.3.mlp.down_proj.lora_B.default.weight', 'base_model.model.model.layers.3.input_layernorm.weight', 'base_model.model.model.layers.3.post_attention_layernorm.weight', 'base_model.model.model.layers.4.self_attn.q_proj.base_layer.weight', 'base_model.model.model.layers.4.self_attn.q_proj.lora_A.default.weight', 'base_model.model.model.layers.4.self_attn.q_proj.lora_B.default.weight', 'base_model.model.model.layers.4.self_attn.k_proj.base_layer.weight', 'base_model.model.model.layers.4.self_attn.k_proj.lora_A.default.weight', 'base_model.model.model.layers.4.self_attn.k_proj.lora_B.default.weight', 'base_model.model.model.layers.4.self_attn.v_proj.base_layer.weight', 'base_model.model.model.layers.4.self_attn.v_proj.lora_A.default.weight', 'base_model.model.model.layers.4.self_attn.v_proj.lora_B.default.weight', 'base_model.model.model.layers.4.self_attn.o_proj.base_layer.weight', 'base_model.model.model.layers.4.self_attn.o_proj.lora_A.default.weight', 'base_model.model.model.layers.4.self_attn.o_proj.lora_B.default.weight', 'base_model.model.model.layers.4.self_attn.rotary_emb.inv_freq', 'base_model.model.model.layers.4.mlp.gate_proj.base_layer.weight', 'base_model.model.model.layers.4.mlp.gate_proj.lora_A.default.weight', 'base_model.model.model.layers.4.mlp.gate_proj.lora_B.default.weight', 'base_model.model.model.layers.4.mlp.up_proj.base_layer.weight', 'base_model.model.model.layers.4.mlp.up_proj.lora_A.default.weight', 'base_model.model.model.layers.4.mlp.up_proj.lora_B.default.weight', 'base_model.model.model.layers.4.mlp.down_proj.base_layer.weight', 'base_model.model.model.layers.4.mlp.down_proj.lora_A.default.weight', 'base_model.model.model.layers.4.mlp.down_proj.lora_B.default.weight', 'base_model.model.model.layers.4.input_layernorm.weight', 'base_model.model.model.layers.4.post_attention_layernorm.weight', 'base_model.model.model.layers.5.self_attn.q_proj.base_layer.weight', 'base_model.model.model.layers.5.self_attn.q_proj.lora_A.default.weight', 'base_model.model.model.layers.5.self_attn.q_proj.lora_B.default.weight', 'base_model.model.model.layers.5.self_attn.k_proj.base_layer.weight', 'base_model.model.model.layers.5.self_attn.k_proj.lora_A.default.weight', 'base_model.model.model.layers.5.self_attn.k_proj.lora_B.default.weight', 'base_model.model.model.layers.5.self_attn.v_proj.base_layer.weight', 'base_model.model.model.layers.5.self_attn.v_proj.lora_A.default.weight', 'base_model.model.model.layers.5.self_attn.v_proj.lora_B.default.weight', 'base_model.model.model.layers.5.self_attn.o_proj.base_layer.weight', 'base_model.model.model.layers.5.self_attn.o_proj.lora_A.default.weight', 'base_model.model.model.layers.5.self_attn.o_proj.lora_B.default.weight', 'base_model.model.model.layers.5.self_attn.rotary_emb.inv_freq', 'base_model.model.model.layers.5.mlp.gate_proj.base_layer.weight', 'base_model.model.model.layers.5.mlp.gate_proj.lora_A.default.weight', 'base_model.model.model.layers.5.mlp.gate_proj.lora_B.default.weight', 'base_model.model.model.layers.5.mlp.up_proj.base_layer.weight', 'base_model.model.model.layers.5.mlp.up_proj.lora_A.default.weight', 'base_model.model.model.layers.5.mlp.up_proj.lora_B.default.weight', 'base_model.model.model.layers.5.mlp.down_proj.base_layer.weight', 'base_model.model.model.layers.5.mlp.down_proj.lora_A.default.weight', 'base_model.model.model.layers.5.mlp.down_proj.lora_B.default.weight', 'base_model.model.model.layers.5.input_layernorm.weight', 'base_model.model.model.layers.5.post_attention_layernorm.weight', 'base_model.model.model.layers.6.self_attn.q_proj.base_layer.weight', 'base_model.model.model.layers.6.self_attn.q_proj.lora_A.default.weight', 'base_model.model.model.layers.6.self_attn.q_proj.lora_B.default.weight', 'base_model.model.model.layers.6.self_attn.k_proj.base_layer.weight', 'base_model.model.model.layers.6.self_attn.k_proj.lora_A.default.weight', 'base_model.model.model.layers.6.self_attn.k_proj.lora_B.default.weight', 'base_model.model.model.layers.6.self_attn.v_proj.base_layer.weight', 'base_model.model.model.layers.6.self_attn.v_proj.lora_A.default.weight', 'base_model.model.model.layers.6.self_attn.v_proj.lora_B.default.weight', 'base_model.model.model.layers.6.self_attn.o_proj.base_layer.weight', 'base_model.model.model.layers.6.self_attn.o_proj.lora_A.default.weight', 'base_model.model.model.layers.6.self_attn.o_proj.lora_B.default.weight', 'base_model.model.model.layers.6.self_attn.rotary_emb.inv_freq', 'base_model.model.model.layers.6.mlp.gate_proj.base_layer.weight', 'base_model.model.model.layers.6.mlp.gate_proj.lora_A.default.weight', 'base_model.model.model.layers.6.mlp.gate_proj.lora_B.default.weight', 'base_model.model.model.layers.6.mlp.up_proj.base_layer.weight', 'base_model.model.model.layers.6.mlp.up_proj.lora_A.default.weight', 'base_model.model.model.layers.6.mlp.up_proj.lora_B.default.weight', 'base_model.model.model.layers.6.mlp.down_proj.base_layer.weight', 'base_model.model.model.layers.6.mlp.down_proj.lora_A.default.weight', 'base_model.model.model.layers.6.mlp.down_proj.lora_B.default.weight', 'base_model.model.model.layers.6.input_layernorm.weight', 'base_model.model.model.layers.6.post_attention_layernorm.weight', 'base_model.model.model.layers.7.self_attn.q_proj.base_layer.weight', 'base_model.model.model.layers.7.self_attn.q_proj.lora_A.default.weight', 'base_model.model.model.layers.7.self_attn.q_proj.lora_B.default.weight', 'base_model.model.model.layers.7.self_attn.k_proj.base_layer.weight', 'base_model.model.model.layers.7.self_attn.k_proj.lora_A.default.weight', 'base_model.model.model.layers.7.self_attn.k_proj.lora_B.default.weight', 'base_model.model.model.layers.7.self_attn.v_proj.base_layer.weight', 'base_model.model.model.layers.7.self_attn.v_proj.lora_A.default.weight', 'base_model.model.model.layers.7.self_attn.v_proj.lora_B.default.weight', 'base_model.model.model.layers.7.self_attn.o_proj.base_layer.weight', 'base_model.model.model.layers.7.self_attn.o_proj.lora_A.default.weight', 'base_model.model.model.layers.7.self_attn.o_proj.lora_B.default.weight', 'base_model.model.model.layers.7.self_attn.rotary_emb.inv_freq', 'base_model.model.model.layers.7.mlp.gate_proj.base_layer.weight', 'base_model.model.model.layers.7.mlp.gate_proj.lora_A.default.weight', 'base_model.model.model.layers.7.mlp.gate_proj.lora_B.default.weight', 'base_model.model.model.layers.7.mlp.up_proj.base_layer.weight', 'base_model.model.model.layers.7.mlp.up_proj.lora_A.default.weight', 'base_model.model.model.layers.7.mlp.up_proj.lora_B.default.weight', 'base_model.model.model.layers.7.mlp.down_proj.base_layer.weight', 'base_model.model.model.layers.7.mlp.down_proj.lora_A.default.weight', 'base_model.model.model.layers.7.mlp.down_proj.lora_B.default.weight', 'base_model.model.model.layers.7.input_layernorm.weight', 'base_model.model.model.layers.7.post_attention_layernorm.weight', 'base_model.model.model.layers.8.self_attn.q_proj.base_layer.weight', 'base_model.model.model.layers.8.self_attn.q_proj.lora_A.default.weight', 'base_model.model.model.layers.8.self_attn.q_proj.lora_B.default.weight', 'base_model.model.model.layers.8.self_attn.k_proj.base_layer.weight', 'base_model.model.model.layers.8.self_attn.k_proj.lora_A.default.weight', 'base_model.model.model.layers.8.self_attn.k_proj.lora_B.default.weight', 'base_model.model.model.layers.8.self_attn.v_proj.base_layer.weight', 'base_model.model.model.layers.8.self_attn.v_proj.lora_A.default.weight', 'base_model.model.model.layers.8.self_attn.v_proj.lora_B.default.weight', 'base_model.model.model.layers.8.self_attn.o_proj.base_layer.weight', 'base_model.model.model.layers.8.self_attn.o_proj.lora_A.default.weight', 'base_model.model.model.layers.8.self_attn.o_proj.lora_B.default.weight', 'base_model.model.model.layers.8.self_attn.rotary_emb.inv_freq', 'base_model.model.model.layers.8.mlp.gate_proj.base_layer.weight', 'base_model.model.model.layers.8.mlp.gate_proj.lora_A.default.weight', 'base_model.model.model.layers.8.mlp.gate_proj.lora_B.default.weight', 'base_model.model.model.layers.8.mlp.up_proj.base_layer.weight', 'base_model.model.model.layers.8.mlp.up_proj.lora_A.default.weight', 'base_model.model.model.layers.8.mlp.up_proj.lora_B.default.weight', 'base_model.model.model.layers.8.mlp.down_proj.base_layer.weight', 'base_model.model.model.layers.8.mlp.down_proj.lora_A.default.weight', 'base_model.model.model.layers.8.mlp.down_proj.lora_B.default.weight', 'base_model.model.model.layers.8.input_layernorm.weight', 'base_model.model.model.layers.8.post_attention_layernorm.weight', 'base_model.model.model.layers.9.self_attn.q_proj.base_layer.weight', 'base_model.model.model.layers.9.self_attn.q_proj.lora_A.default.weight', 'base_model.model.model.layers.9.self_attn.q_proj.lora_B.default.weight', 'base_model.model.model.layers.9.self_attn.k_proj.base_layer.weight', 'base_model.model.model.layers.9.self_attn.k_proj.lora_A.default.weight', 'base_model.model.model.layers.9.self_attn.k_proj.lora_B.default.weight', 'base_model.model.model.layers.9.self_attn.v_proj.base_layer.weight', 'base_model.model.model.layers.9.self_attn.v_proj.lora_A.default.weight', 'base_model.model.model.layers.9.self_attn.v_proj.lora_B.default.weight', 'base_model.model.model.layers.9.self_attn.o_proj.base_layer.weight', 'base_model.model.model.layers.9.self_attn.o_proj.lora_A.default.weight', 'base_model.model.model.layers.9.self_attn.o_proj.lora_B.default.weight', 'base_model.model.model.layers.9.self_attn.rotary_emb.inv_freq', 'base_model.model.model.layers.9.mlp.gate_proj.base_layer.weight', 'base_model.model.model.layers.9.mlp.gate_proj.lora_A.default.weight', 'base_model.model.model.layers.9.mlp.gate_proj.lora_B.default.weight', 'base_model.model.model.layers.9.mlp.up_proj.base_layer.weight', 'base_model.model.model.layers.9.mlp.up_proj.lora_A.default.weight', 'base_model.model.model.layers.9.mlp.up_proj.lora_B.default.weight', 'base_model.model.model.layers.9.mlp.down_proj.base_layer.weight', 'base_model.model.model.layers.9.mlp.down_proj.lora_A.default.weight', 'base_model.model.model.layers.9.mlp.down_proj.lora_B.default.weight', 'base_model.model.model.layers.9.input_layernorm.weight', 'base_model.model.model.layers.9.post_attention_layernorm.weight', 'base_model.model.model.layers.10.self_attn.q_proj.base_layer.weight', 'base_model.model.model.layers.10.self_attn.q_proj.lora_A.default.weight', 'base_model.model.model.layers.10.self_attn.q_proj.lora_B.default.weight', 'base_model.model.model.layers.10.self_attn.k_proj.base_layer.weight', 'base_model.model.model.layers.10.self_attn.k_proj.lora_A.default.weight', 'base_model.model.model.layers.10.self_attn.k_proj.lora_B.default.weight', 'base_model.model.model.layers.10.self_attn.v_proj.base_layer.weight', 'base_model.model.model.layers.10.self_attn.v_proj.lora_A.default.weight', 'base_model.model.model.layers.10.self_attn.v_proj.lora_B.default.weight', 'base_model.model.model.layers.10.self_attn.o_proj.base_layer.weight', 'base_model.model.model.layers.10.self_attn.o_proj.lora_A.default.weight', 'base_model.model.model.layers.10.self_attn.o_proj.lora_B.default.weight', 'base_model.model.model.layers.10.self_attn.rotary_emb.inv_freq', 'base_model.model.model.layers.10.mlp.gate_proj.base_layer.weight', 'base_model.model.model.layers.10.mlp.gate_proj.lora_A.default.weight', 'base_model.model.model.layers.10.mlp.gate_proj.lora_B.default.weight', 'base_model.model.model.layers.10.mlp.up_proj.base_layer.weight', 'base_model.model.model.layers.10.mlp.up_proj.lora_A.default.weight', 'base_model.model.model.layers.10.mlp.up_proj.lora_B.default.weight', 'base_model.model.model.layers.10.mlp.down_proj.base_layer.weight', 'base_model.model.model.layers.10.mlp.down_proj.lora_A.default.weight', 'base_model.model.model.layers.10.mlp.down_proj.lora_B.default.weight', 'base_model.model.model.layers.10.input_layernorm.weight', 'base_model.model.model.layers.10.post_attention_layernorm.weight', 'base_model.model.model.layers.11.self_attn.q_proj.base_layer.weight', 'base_model.model.model.layers.11.self_attn.q_proj.lora_A.default.weight', 'base_model.model.model.layers.11.self_attn.q_proj.lora_B.default.weight', 'base_model.model.model.layers.11.self_attn.k_proj.base_layer.weight', 'base_model.model.model.layers.11.self_attn.k_proj.lora_A.default.weight', 'base_model.model.model.layers.11.self_attn.k_proj.lora_B.default.weight', 'base_model.model.model.layers.11.self_attn.v_proj.base_layer.weight', 'base_model.model.model.layers.11.self_attn.v_proj.lora_A.default.weight', 'base_model.model.model.layers.11.self_attn.v_proj.lora_B.default.weight', 'base_model.model.model.layers.11.self_attn.o_proj.base_layer.weight', 'base_model.model.model.layers.11.self_attn.o_proj.lora_A.default.weight', 'base_model.model.model.layers.11.self_attn.o_proj.lora_B.default.weight', 'base_model.model.model.layers.11.self_attn.rotary_emb.inv_freq', 'base_model.model.model.layers.11.mlp.gate_proj.base_layer.weight', 'base_model.model.model.layers.11.mlp.gate_proj.lora_A.default.weight', 'base_model.model.model.layers.11.mlp.gate_proj.lora_B.default.weight', 'base_model.model.model.layers.11.mlp.up_proj.base_layer.weight', 'base_model.model.model.layers.11.mlp.up_proj.lora_A.default.weight', 'base_model.model.model.layers.11.mlp.up_proj.lora_B.default.weight', 'base_model.model.model.layers.11.mlp.down_proj.base_layer.weight', 'base_model.model.model.layers.11.mlp.down_proj.lora_A.default.weight', 'base_model.model.model.layers.11.mlp.down_proj.lora_B.default.weight', 'base_model.model.model.layers.11.input_layernorm.weight', 'base_model.model.model.layers.11.post_attention_layernorm.weight', 'base_model.model.model.layers.12.self_attn.q_proj.base_layer.weight', 'base_model.model.model.layers.12.self_attn.q_proj.lora_A.default.weight', 'base_model.model.model.layers.12.self_attn.q_proj.lora_B.default.weight', 'base_model.model.model.layers.12.self_attn.k_proj.base_layer.weight', 'base_model.model.model.layers.12.self_attn.k_proj.lora_A.default.weight', 'base_model.model.model.layers.12.self_attn.k_proj.lora_B.default.weight', 'base_model.model.model.layers.12.self_attn.v_proj.base_layer.weight', 'base_model.model.model.layers.12.self_attn.v_proj.lora_A.default.weight', 'base_model.model.model.layers.12.self_attn.v_proj.lora_B.default.weight', 'base_model.model.model.layers.12.self_attn.o_proj.base_layer.weight', 'base_model.model.model.layers.12.self_attn.o_proj.lora_A.default.weight', 'base_model.model.model.layers.12.self_attn.o_proj.lora_B.default.weight', 'base_model.model.model.layers.12.self_attn.rotary_emb.inv_freq', 'base_model.model.model.layers.12.mlp.gate_proj.base_layer.weight', 'base_model.model.model.layers.12.mlp.gate_proj.lora_A.default.weight', 'base_model.model.model.layers.12.mlp.gate_proj.lora_B.default.weight', 'base_model.model.model.layers.12.mlp.up_proj.base_layer.weight', 'base_model.model.model.layers.12.mlp.up_proj.lora_A.default.weight', 'base_model.model.model.layers.12.mlp.up_proj.lora_B.default.weight', 'base_model.model.model.layers.12.mlp.down_proj.base_layer.weight', 'base_model.model.model.layers.12.mlp.down_proj.lora_A.default.weight', 'base_model.model.model.layers.12.mlp.down_proj.lora_B.default.weight', 'base_model.model.model.layers.12.input_layernorm.weight', 'base_model.model.model.layers.12.post_attention_layernorm.weight', 'base_model.model.model.layers.13.self_attn.q_proj.base_layer.weight', 'base_model.model.model.layers.13.self_attn.q_proj.lora_A.default.weight', 'base_model.model.model.layers.13.self_attn.q_proj.lora_B.default.weight', 'base_model.model.model.layers.13.self_attn.k_proj.base_layer.weight', 'base_model.model.model.layers.13.self_attn.k_proj.lora_A.default.weight', 'base_model.model.model.layers.13.self_attn.k_proj.lora_B.default.weight', 'base_model.model.model.layers.13.self_attn.v_proj.base_layer.weight', 'base_model.model.model.layers.13.self_attn.v_proj.lora_A.default.weight', 'base_model.model.model.layers.13.self_attn.v_proj.lora_B.default.weight', 'base_model.model.model.layers.13.self_attn.o_proj.base_layer.weight', 'base_model.model.model.layers.13.self_attn.o_proj.lora_A.default.weight', 'base_model.model.model.layers.13.self_attn.o_proj.lora_B.default.weight', 'base_model.model.model.layers.13.self_attn.rotary_emb.inv_freq', 'base_model.model.model.layers.13.mlp.gate_proj.base_layer.weight', 'base_model.model.model.layers.13.mlp.gate_proj.lora_A.default.weight', 'base_model.model.model.layers.13.mlp.gate_proj.lora_B.default.weight', 'base_model.model.model.layers.13.mlp.up_proj.base_layer.weight', 'base_model.model.model.layers.13.mlp.up_proj.lora_A.default.weight', 'base_model.model.model.layers.13.mlp.up_proj.lora_B.default.weight', 'base_model.model.model.layers.13.mlp.down_proj.base_layer.weight', 'base_model.model.model.layers.13.mlp.down_proj.lora_A.default.weight', 'base_model.model.model.layers.13.mlp.down_proj.lora_B.default.weight', 'base_model.model.model.layers.13.input_layernorm.weight', 'base_model.model.model.layers.13.post_attention_layernorm.weight', 'base_model.model.model.layers.14.self_attn.q_proj.base_layer.weight', 'base_model.model.model.layers.14.self_attn.q_proj.lora_A.default.weight', 'base_model.model.model.layers.14.self_attn.q_proj.lora_B.default.weight', 'base_model.model.model.layers.14.self_attn.k_proj.base_layer.weight', 'base_model.model.model.layers.14.self_attn.k_proj.lora_A.default.weight', 'base_model.model.model.layers.14.self_attn.k_proj.lora_B.default.weight', 'base_model.model.model.layers.14.self_attn.v_proj.base_layer.weight', 'base_model.model.model.layers.14.self_attn.v_proj.lora_A.default.weight', 'base_model.model.model.layers.14.self_attn.v_proj.lora_B.default.weight', 'base_model.model.model.layers.14.self_attn.o_proj.base_layer.weight', 'base_model.model.model.layers.14.self_attn.o_proj.lora_A.default.weight', 'base_model.model.model.layers.14.self_attn.o_proj.lora_B.default.weight', 'base_model.model.model.layers.14.self_attn.rotary_emb.inv_freq', 'base_model.model.model.layers.14.mlp.gate_proj.base_layer.weight', 'base_model.model.model.layers.14.mlp.gate_proj.lora_A.default.weight', 'base_model.model.model.layers.14.mlp.gate_proj.lora_B.default.weight', 'base_model.model.model.layers.14.mlp.up_proj.base_layer.weight', 'base_model.model.model.layers.14.mlp.up_proj.lora_A.default.weight', 'base_model.model.model.layers.14.mlp.up_proj.lora_B.default.weight', 'base_model.model.model.layers.14.mlp.down_proj.base_layer.weight', 'base_model.model.model.layers.14.mlp.down_proj.lora_A.default.weight', 'base_model.model.model.layers.14.mlp.down_proj.lora_B.default.weight', 'base_model.model.model.layers.14.input_layernorm.weight', 'base_model.model.model.layers.14.post_attention_layernorm.weight', 'base_model.model.model.layers.15.self_attn.q_proj.base_layer.weight', 'base_model.model.model.layers.15.self_attn.q_proj.lora_A.default.weight', 'base_model.model.model.layers.15.self_attn.q_proj.lora_B.default.weight', 'base_model.model.model.layers.15.self_attn.k_proj.base_layer.weight', 'base_model.model.model.layers.15.self_attn.k_proj.lora_A.default.weight', 'base_model.model.model.layers.15.self_attn.k_proj.lora_B.default.weight', 'base_model.model.model.layers.15.self_attn.v_proj.base_layer.weight', 'base_model.model.model.layers.15.self_attn.v_proj.lora_A.default.weight', 'base_model.model.model.layers.15.self_attn.v_proj.lora_B.default.weight', 'base_model.model.model.layers.15.self_attn.o_proj.base_layer.weight', 'base_model.model.model.layers.15.self_attn.o_proj.lora_A.default.weight', 'base_model.model.model.layers.15.self_attn.o_proj.lora_B.default.weight', 'base_model.model.model.layers.15.self_attn.rotary_emb.inv_freq', 'base_model.model.model.layers.15.mlp.gate_proj.base_layer.weight', 'base_model.model.model.layers.15.mlp.gate_proj.lora_A.default.weight', 'base_model.model.model.layers.15.mlp.gate_proj.lora_B.default.weight', 'base_model.model.model.layers.15.mlp.up_proj.base_layer.weight', 'base_model.model.model.layers.15.mlp.up_proj.lora_A.default.weight', 'base_model.model.model.layers.15.mlp.up_proj.lora_B.default.weight', 'base_model.model.model.layers.15.mlp.down_proj.base_layer.weight', 'base_model.model.model.layers.15.mlp.down_proj.lora_A.default.weight', 'base_model.model.model.layers.15.mlp.down_proj.lora_B.default.weight', 'base_model.model.model.layers.15.input_layernorm.weight', 'base_model.model.model.layers.15.post_attention_layernorm.weight', 'base_model.model.model.layers.16.self_attn.q_proj.base_layer.weight', 'base_model.model.model.layers.16.self_attn.q_proj.lora_A.default.weight', 'base_model.model.model.layers.16.self_attn.q_proj.lora_B.default.weight', 'base_model.model.model.layers.16.self_attn.k_proj.base_layer.weight', 'base_model.model.model.layers.16.self_attn.k_proj.lora_A.default.weight', 'base_model.model.model.layers.16.self_attn.k_proj.lora_B.default.weight', 'base_model.model.model.layers.16.self_attn.v_proj.base_layer.weight', 'base_model.model.model.layers.16.self_attn.v_proj.lora_A.default.weight', 'base_model.model.model.layers.16.self_attn.v_proj.lora_B.default.weight', 'base_model.model.model.layers.16.self_attn.o_proj.base_layer.weight', 'base_model.model.model.layers.16.self_attn.o_proj.lora_A.default.weight', 'base_model.model.model.layers.16.self_attn.o_proj.lora_B.default.weight', 'base_model.model.model.layers.16.self_attn.rotary_emb.inv_freq', 'base_model.model.model.layers.16.mlp.gate_proj.base_layer.weight', 'base_model.model.model.layers.16.mlp.gate_proj.lora_A.default.weight', 'base_model.model.model.layers.16.mlp.gate_proj.lora_B.default.weight', 'base_model.model.model.layers.16.mlp.up_proj.base_layer.weight', 'base_model.model.model.layers.16.mlp.up_proj.lora_A.default.weight', 'base_model.model.model.layers.16.mlp.up_proj.lora_B.default.weight', 'base_model.model.model.layers.16.mlp.down_proj.base_layer.weight', 'base_model.model.model.layers.16.mlp.down_proj.lora_A.default.weight', 'base_model.model.model.layers.16.mlp.down_proj.lora_B.default.weight', 'base_model.model.model.layers.16.input_layernorm.weight', 'base_model.model.model.layers.16.post_attention_layernorm.weight', 'base_model.model.model.layers.17.self_attn.q_proj.base_layer.weight', 'base_model.model.model.layers.17.self_attn.q_proj.lora_A.default.weight', 'base_model.model.model.layers.17.self_attn.q_proj.lora_B.default.weight', 'base_model.model.model.layers.17.self_attn.k_proj.base_layer.weight', 'base_model.model.model.layers.17.self_attn.k_proj.lora_A.default.weight', 'base_model.model.model.layers.17.self_attn.k_proj.lora_B.default.weight', 'base_model.model.model.layers.17.self_attn.v_proj.base_layer.weight', 'base_model.model.model.layers.17.self_attn.v_proj.lora_A.default.weight', 'base_model.model.model.layers.17.self_attn.v_proj.lora_B.default.weight', 'base_model.model.model.layers.17.self_attn.o_proj.base_layer.weight', 'base_model.model.model.layers.17.self_attn.o_proj.lora_A.default.weight', 'base_model.model.model.layers.17.self_attn.o_proj.lora_B.default.weight', 'base_model.model.model.layers.17.self_attn.rotary_emb.inv_freq', 'base_model.model.model.layers.17.mlp.gate_proj.base_layer.weight', 'base_model.model.model.layers.17.mlp.gate_proj.lora_A.default.weight', 'base_model.model.model.layers.17.mlp.gate_proj.lora_B.default.weight', 'base_model.model.model.layers.17.mlp.up_proj.base_layer.weight', 'base_model.model.model.layers.17.mlp.up_proj.lora_A.default.weight', 'base_model.model.model.layers.17.mlp.up_proj.lora_B.default.weight', 'base_model.model.model.layers.17.mlp.down_proj.base_layer.weight', 'base_model.model.model.layers.17.mlp.down_proj.lora_A.default.weight', 'base_model.model.model.layers.17.mlp.down_proj.lora_B.default.weight', 'base_model.model.model.layers.17.input_layernorm.weight', 'base_model.model.model.layers.17.post_attention_layernorm.weight', 'base_model.model.model.layers.18.self_attn.q_proj.base_layer.weight', 'base_model.model.model.layers.18.self_attn.q_proj.lora_A.default.weight', 'base_model.model.model.layers.18.self_attn.q_proj.lora_B.default.weight', 'base_model.model.model.layers.18.self_attn.k_proj.base_layer.weight', 'base_model.model.model.layers.18.self_attn.k_proj.lora_A.default.weight', 'base_model.model.model.layers.18.self_attn.k_proj.lora_B.default.weight', 'base_model.model.model.layers.18.self_attn.v_proj.base_layer.weight', 'base_model.model.model.layers.18.self_attn.v_proj.lora_A.default.weight', 'base_model.model.model.layers.18.self_attn.v_proj.lora_B.default.weight', 'base_model.model.model.layers.18.self_attn.o_proj.base_layer.weight', 'base_model.model.model.layers.18.self_attn.o_proj.lora_A.default.weight', 'base_model.model.model.layers.18.self_attn.o_proj.lora_B.default.weight', 'base_model.model.model.layers.18.self_attn.rotary_emb.inv_freq', 'base_model.model.model.layers.18.mlp.gate_proj.base_layer.weight', 'base_model.model.model.layers.18.mlp.gate_proj.lora_A.default.weight', 'base_model.model.model.layers.18.mlp.gate_proj.lora_B.default.weight', 'base_model.model.model.layers.18.mlp.up_proj.base_layer.weight', 'base_model.model.model.layers.18.mlp.up_proj.lora_A.default.weight', 'base_model.model.model.layers.18.mlp.up_proj.lora_B.default.weight', 'base_model.model.model.layers.18.mlp.down_proj.base_layer.weight', 'base_model.model.model.layers.18.mlp.down_proj.lora_A.default.weight', 'base_model.model.model.layers.18.mlp.down_proj.lora_B.default.weight', 'base_model.model.model.layers.18.input_layernorm.weight', 'base_model.model.model.layers.18.post_attention_layernorm.weight', 'base_model.model.model.layers.19.self_attn.q_proj.base_layer.weight', 'base_model.model.model.layers.19.self_attn.q_proj.lora_A.default.weight', 'base_model.model.model.layers.19.self_attn.q_proj.lora_B.default.weight', 'base_model.model.model.layers.19.self_attn.k_proj.base_layer.weight', 'base_model.model.model.layers.19.self_attn.k_proj.lora_A.default.weight', 'base_model.model.model.layers.19.self_attn.k_proj.lora_B.default.weight', 'base_model.model.model.layers.19.self_attn.v_proj.base_layer.weight', 'base_model.model.model.layers.19.self_attn.v_proj.lora_A.default.weight', 'base_model.model.model.layers.19.self_attn.v_proj.lora_B.default.weight', 'base_model.model.model.layers.19.self_attn.o_proj.base_layer.weight', 'base_model.model.model.layers.19.self_attn.o_proj.lora_A.default.weight', 'base_model.model.model.layers.19.self_attn.o_proj.lora_B.default.weight', 'base_model.model.model.layers.19.self_attn.rotary_emb.inv_freq', 'base_model.model.model.layers.19.mlp.gate_proj.base_layer.weight', 'base_model.model.model.layers.19.mlp.gate_proj.lora_A.default.weight', 'base_model.model.model.layers.19.mlp.gate_proj.lora_B.default.weight', 'base_model.model.model.layers.19.mlp.up_proj.base_layer.weight', 'base_model.model.model.layers.19.mlp.up_proj.lora_A.default.weight', 'base_model.model.model.layers.19.mlp.up_proj.lora_B.default.weight', 'base_model.model.model.layers.19.mlp.down_proj.base_layer.weight', 'base_model.model.model.layers.19.mlp.down_proj.lora_A.default.weight', 'base_model.model.model.layers.19.mlp.down_proj.lora_B.default.weight', 'base_model.model.model.layers.19.input_layernorm.weight', 'base_model.model.model.layers.19.post_attention_layernorm.weight', 'base_model.model.model.layers.20.self_attn.q_proj.base_layer.weight', 'base_model.model.model.layers.20.self_attn.q_proj.lora_A.default.weight', 'base_model.model.model.layers.20.self_attn.q_proj.lora_B.default.weight', 'base_model.model.model.layers.20.self_attn.k_proj.base_layer.weight', 'base_model.model.model.layers.20.self_attn.k_proj.lora_A.default.weight', 'base_model.model.model.layers.20.self_attn.k_proj.lora_B.default.weight', 'base_model.model.model.layers.20.self_attn.v_proj.base_layer.weight', 'base_model.model.model.layers.20.self_attn.v_proj.lora_A.default.weight', 'base_model.model.model.layers.20.self_attn.v_proj.lora_B.default.weight', 'base_model.model.model.layers.20.self_attn.o_proj.base_layer.weight', 'base_model.model.model.layers.20.self_attn.o_proj.lora_A.default.weight', 'base_model.model.model.layers.20.self_attn.o_proj.lora_B.default.weight', 'base_model.model.model.layers.20.self_attn.rotary_emb.inv_freq', 'base_model.model.model.layers.20.mlp.gate_proj.base_layer.weight', 'base_model.model.model.layers.20.mlp.gate_proj.lora_A.default.weight', 'base_model.model.model.layers.20.mlp.gate_proj.lora_B.default.weight', 'base_model.model.model.layers.20.mlp.up_proj.base_layer.weight', 'base_model.model.model.layers.20.mlp.up_proj.lora_A.default.weight', 'base_model.model.model.layers.20.mlp.up_proj.lora_B.default.weight', 'base_model.model.model.layers.20.mlp.down_proj.base_layer.weight', 'base_model.model.model.layers.20.mlp.down_proj.lora_A.default.weight', 'base_model.model.model.layers.20.mlp.down_proj.lora_B.default.weight', 'base_model.model.model.layers.20.input_layernorm.weight', 'base_model.model.model.layers.20.post_attention_layernorm.weight', 'base_model.model.model.layers.21.self_attn.q_proj.base_layer.weight', 'base_model.model.model.layers.21.self_attn.q_proj.lora_A.default.weight', 'base_model.model.model.layers.21.self_attn.q_proj.lora_B.default.weight', 'base_model.model.model.layers.21.self_attn.k_proj.base_layer.weight', 'base_model.model.model.layers.21.self_attn.k_proj.lora_A.default.weight', 'base_model.model.model.layers.21.self_attn.k_proj.lora_B.default.weight', 'base_model.model.model.layers.21.self_attn.v_proj.base_layer.weight', 'base_model.model.model.layers.21.self_attn.v_proj.lora_A.default.weight', 'base_model.model.model.layers.21.self_attn.v_proj.lora_B.default.weight', 'base_model.model.model.layers.21.self_attn.o_proj.base_layer.weight', 'base_model.model.model.layers.21.self_attn.o_proj.lora_A.default.weight', 'base_model.model.model.layers.21.self_attn.o_proj.lora_B.default.weight', 'base_model.model.model.layers.21.self_attn.rotary_emb.inv_freq', 'base_model.model.model.layers.21.mlp.gate_proj.base_layer.weight', 'base_model.model.model.layers.21.mlp.gate_proj.lora_A.default.weight', 'base_model.model.model.layers.21.mlp.gate_proj.lora_B.default.weight', 'base_model.model.model.layers.21.mlp.up_proj.base_layer.weight', 'base_model.model.model.layers.21.mlp.up_proj.lora_A.default.weight', 'base_model.model.model.layers.21.mlp.up_proj.lora_B.default.weight', 'base_model.model.model.layers.21.mlp.down_proj.base_layer.weight', 'base_model.model.model.layers.21.mlp.down_proj.lora_A.default.weight', 'base_model.model.model.layers.21.mlp.down_proj.lora_B.default.weight', 'base_model.model.model.layers.21.input_layernorm.weight', 'base_model.model.model.layers.21.post_attention_layernorm.weight', 'base_model.model.model.layers.22.self_attn.q_proj.base_layer.weight', 'base_model.model.model.layers.22.self_attn.q_proj.lora_A.default.weight', 'base_model.model.model.layers.22.self_attn.q_proj.lora_B.default.weight', 'base_model.model.model.layers.22.self_attn.k_proj.base_layer.weight', 'base_model.model.model.layers.22.self_attn.k_proj.lora_A.default.weight', 'base_model.model.model.layers.22.self_attn.k_proj.lora_B.default.weight', 'base_model.model.model.layers.22.self_attn.v_proj.base_layer.weight', 'base_model.model.model.layers.22.self_attn.v_proj.lora_A.default.weight', 'base_model.model.model.layers.22.self_attn.v_proj.lora_B.default.weight', 'base_model.model.model.layers.22.self_attn.o_proj.base_layer.weight', 'base_model.model.model.layers.22.self_attn.o_proj.lora_A.default.weight', 'base_model.model.model.layers.22.self_attn.o_proj.lora_B.default.weight', 'base_model.model.model.layers.22.self_attn.rotary_emb.inv_freq', 'base_model.model.model.layers.22.mlp.gate_proj.base_layer.weight', 'base_model.model.model.layers.22.mlp.gate_proj.lora_A.default.weight', 'base_model.model.model.layers.22.mlp.gate_proj.lora_B.default.weight', 'base_model.model.model.layers.22.mlp.up_proj.base_layer.weight', 'base_model.model.model.layers.22.mlp.up_proj.lora_A.default.weight', 'base_model.model.model.layers.22.mlp.up_proj.lora_B.default.weight', 'base_model.model.model.layers.22.mlp.down_proj.base_layer.weight', 'base_model.model.model.layers.22.mlp.down_proj.lora_A.default.weight', 'base_model.model.model.layers.22.mlp.down_proj.lora_B.default.weight', 'base_model.model.model.layers.22.input_layernorm.weight', 'base_model.model.model.layers.22.post_attention_layernorm.weight', 'base_model.model.model.layers.23.self_attn.q_proj.base_layer.weight', 'base_model.model.model.layers.23.self_attn.q_proj.lora_A.default.weight', 'base_model.model.model.layers.23.self_attn.q_proj.lora_B.default.weight', 'base_model.model.model.layers.23.self_attn.k_proj.base_layer.weight', 'base_model.model.model.layers.23.self_attn.k_proj.lora_A.default.weight', 'base_model.model.model.layers.23.self_attn.k_proj.lora_B.default.weight', 'base_model.model.model.layers.23.self_attn.v_proj.base_layer.weight', 'base_model.model.model.layers.23.self_attn.v_proj.lora_A.default.weight', 'base_model.model.model.layers.23.self_attn.v_proj.lora_B.default.weight', 'base_model.model.model.layers.23.self_attn.o_proj.base_layer.weight', 'base_model.model.model.layers.23.self_attn.o_proj.lora_A.default.weight', 'base_model.model.model.layers.23.self_attn.o_proj.lora_B.default.weight', 'base_model.model.model.layers.23.self_attn.rotary_emb.inv_freq', 'base_model.model.model.layers.23.mlp.gate_proj.base_layer.weight', 'base_model.model.model.layers.23.mlp.gate_proj.lora_A.default.weight', 'base_model.model.model.layers.23.mlp.gate_proj.lora_B.default.weight', 'base_model.model.model.layers.23.mlp.up_proj.base_layer.weight', 'base_model.model.model.layers.23.mlp.up_proj.lora_A.default.weight', 'base_model.model.model.layers.23.mlp.up_proj.lora_B.default.weight', 'base_model.model.model.layers.23.mlp.down_proj.base_layer.weight', 'base_model.model.model.layers.23.mlp.down_proj.lora_A.default.weight', 'base_model.model.model.layers.23.mlp.down_proj.lora_B.default.weight', 'base_model.model.model.layers.23.input_layernorm.weight', 'base_model.model.model.layers.23.post_attention_layernorm.weight', 'base_model.model.model.layers.24.self_attn.q_proj.base_layer.weight', 'base_model.model.model.layers.24.self_attn.q_proj.lora_A.default.weight', 'base_model.model.model.layers.24.self_attn.q_proj.lora_B.default.weight', 'base_model.model.model.layers.24.self_attn.k_proj.base_layer.weight', 'base_model.model.model.layers.24.self_attn.k_proj.lora_A.default.weight', 'base_model.model.model.layers.24.self_attn.k_proj.lora_B.default.weight', 'base_model.model.model.layers.24.self_attn.v_proj.base_layer.weight', 'base_model.model.model.layers.24.self_attn.v_proj.lora_A.default.weight', 'base_model.model.model.layers.24.self_attn.v_proj.lora_B.default.weight', 'base_model.model.model.layers.24.self_attn.o_proj.base_layer.weight', 'base_model.model.model.layers.24.self_attn.o_proj.lora_A.default.weight', 'base_model.model.model.layers.24.self_attn.o_proj.lora_B.default.weight', 'base_model.model.model.layers.24.self_attn.rotary_emb.inv_freq', 'base_model.model.model.layers.24.mlp.gate_proj.base_layer.weight', 'base_model.model.model.layers.24.mlp.gate_proj.lora_A.default.weight', 'base_model.model.model.layers.24.mlp.gate_proj.lora_B.default.weight', 'base_model.model.model.layers.24.mlp.up_proj.base_layer.weight', 'base_model.model.model.layers.24.mlp.up_proj.lora_A.default.weight', 'base_model.model.model.layers.24.mlp.up_proj.lora_B.default.weight', 'base_model.model.model.layers.24.mlp.down_proj.base_layer.weight', 'base_model.model.model.layers.24.mlp.down_proj.lora_A.default.weight', 'base_model.model.model.layers.24.mlp.down_proj.lora_B.default.weight', 'base_model.model.model.layers.24.input_layernorm.weight', 'base_model.model.model.layers.24.post_attention_layernorm.weight', 'base_model.model.model.layers.25.self_attn.q_proj.base_layer.weight', 'base_model.model.model.layers.25.self_attn.q_proj.lora_A.default.weight', 'base_model.model.model.layers.25.self_attn.q_proj.lora_B.default.weight', 'base_model.model.model.layers.25.self_attn.k_proj.base_layer.weight', 'base_model.model.model.layers.25.self_attn.k_proj.lora_A.default.weight', 'base_model.model.model.layers.25.self_attn.k_proj.lora_B.default.weight', 'base_model.model.model.layers.25.self_attn.v_proj.base_layer.weight', 'base_model.model.model.layers.25.self_attn.v_proj.lora_A.default.weight', 'base_model.model.model.layers.25.self_attn.v_proj.lora_B.default.weight', 'base_model.model.model.layers.25.self_attn.o_proj.base_layer.weight', 'base_model.model.model.layers.25.self_attn.o_proj.lora_A.default.weight', 'base_model.model.model.layers.25.self_attn.o_proj.lora_B.default.weight', 'base_model.model.model.layers.25.self_attn.rotary_emb.inv_freq', 'base_model.model.model.layers.25.mlp.gate_proj.base_layer.weight', 'base_model.model.model.layers.25.mlp.gate_proj.lora_A.default.weight', 'base_model.model.model.layers.25.mlp.gate_proj.lora_B.default.weight', 'base_model.model.model.layers.25.mlp.up_proj.base_layer.weight', 'base_model.model.model.layers.25.mlp.up_proj.lora_A.default.weight', 'base_model.model.model.layers.25.mlp.up_proj.lora_B.default.weight', 'base_model.model.model.layers.25.mlp.down_proj.base_layer.weight', 'base_model.model.model.layers.25.mlp.down_proj.lora_A.default.weight', 'base_model.model.model.layers.25.mlp.down_proj.lora_B.default.weight', 'base_model.model.model.layers.25.input_layernorm.weight', 'base_model.model.model.layers.25.post_attention_layernorm.weight', 'base_model.model.model.layers.26.self_attn.q_proj.base_layer.weight', 'base_model.model.model.layers.26.self_attn.q_proj.lora_A.default.weight', 'base_model.model.model.layers.26.self_attn.q_proj.lora_B.default.weight', 'base_model.model.model.layers.26.self_attn.k_proj.base_layer.weight', 'base_model.model.model.layers.26.self_attn.k_proj.lora_A.default.weight', 'base_model.model.model.layers.26.self_attn.k_proj.lora_B.default.weight', 'base_model.model.model.layers.26.self_attn.v_proj.base_layer.weight', 'base_model.model.model.layers.26.self_attn.v_proj.lora_A.default.weight', 'base_model.model.model.layers.26.self_attn.v_proj.lora_B.default.weight', 'base_model.model.model.layers.26.self_attn.o_proj.base_layer.weight', 'base_model.model.model.layers.26.self_attn.o_proj.lora_A.default.weight', 'base_model.model.model.layers.26.self_attn.o_proj.lora_B.default.weight', 'base_model.model.model.layers.26.self_attn.rotary_emb.inv_freq', 'base_model.model.model.layers.26.mlp.gate_proj.base_layer.weight', 'base_model.model.model.layers.26.mlp.gate_proj.lora_A.default.weight', 'base_model.model.model.layers.26.mlp.gate_proj.lora_B.default.weight', 'base_model.model.model.layers.26.mlp.up_proj.base_layer.weight', 'base_model.model.model.layers.26.mlp.up_proj.lora_A.default.weight', 'base_model.model.model.layers.26.mlp.up_proj.lora_B.default.weight', 'base_model.model.model.layers.26.mlp.down_proj.base_layer.weight', 'base_model.model.model.layers.26.mlp.down_proj.lora_A.default.weight', 'base_model.model.model.layers.26.mlp.down_proj.lora_B.default.weight', 'base_model.model.model.layers.26.input_layernorm.weight', 'base_model.model.model.layers.26.post_attention_layernorm.weight', 'base_model.model.model.layers.27.self_attn.q_proj.base_layer.weight', 'base_model.model.model.layers.27.self_attn.q_proj.lora_A.default.weight', 'base_model.model.model.layers.27.self_attn.q_proj.lora_B.default.weight', 'base_model.model.model.layers.27.self_attn.k_proj.base_layer.weight', 'base_model.model.model.layers.27.self_attn.k_proj.lora_A.default.weight', 'base_model.model.model.layers.27.self_attn.k_proj.lora_B.default.weight', 'base_model.model.model.layers.27.self_attn.v_proj.base_layer.weight', 'base_model.model.model.layers.27.self_attn.v_proj.lora_A.default.weight', 'base_model.model.model.layers.27.self_attn.v_proj.lora_B.default.weight', 'base_model.model.model.layers.27.self_attn.o_proj.base_layer.weight', 'base_model.model.model.layers.27.self_attn.o_proj.lora_A.default.weight', 'base_model.model.model.layers.27.self_attn.o_proj.lora_B.default.weight', 'base_model.model.model.layers.27.self_attn.rotary_emb.inv_freq', 'base_model.model.model.layers.27.mlp.gate_proj.base_layer.weight', 'base_model.model.model.layers.27.mlp.gate_proj.lora_A.default.weight', 'base_model.model.model.layers.27.mlp.gate_proj.lora_B.default.weight', 'base_model.model.model.layers.27.mlp.up_proj.base_layer.weight', 'base_model.model.model.layers.27.mlp.up_proj.lora_A.default.weight', 'base_model.model.model.layers.27.mlp.up_proj.lora_B.default.weight', 'base_model.model.model.layers.27.mlp.down_proj.base_layer.weight', 'base_model.model.model.layers.27.mlp.down_proj.lora_A.default.weight', 'base_model.model.model.layers.27.mlp.down_proj.lora_B.default.weight', 'base_model.model.model.layers.27.input_layernorm.weight', 'base_model.model.model.layers.27.post_attention_layernorm.weight', 'base_model.model.model.layers.28.self_attn.q_proj.base_layer.weight', 'base_model.model.model.layers.28.self_attn.q_proj.lora_A.default.weight', 'base_model.model.model.layers.28.self_attn.q_proj.lora_B.default.weight', 'base_model.model.model.layers.28.self_attn.k_proj.base_layer.weight', 'base_model.model.model.layers.28.self_attn.k_proj.lora_A.default.weight', 'base_model.model.model.layers.28.self_attn.k_proj.lora_B.default.weight', 'base_model.model.model.layers.28.self_attn.v_proj.base_layer.weight', 'base_model.model.model.layers.28.self_attn.v_proj.lora_A.default.weight', 'base_model.model.model.layers.28.self_attn.v_proj.lora_B.default.weight', 'base_model.model.model.layers.28.self_attn.o_proj.base_layer.weight', 'base_model.model.model.layers.28.self_attn.o_proj.lora_A.default.weight', 'base_model.model.model.layers.28.self_attn.o_proj.lora_B.default.weight', 'base_model.model.model.layers.28.self_attn.rotary_emb.inv_freq', 'base_model.model.model.layers.28.mlp.gate_proj.base_layer.weight', 'base_model.model.model.layers.28.mlp.gate_proj.lora_A.default.weight', 'base_model.model.model.layers.28.mlp.gate_proj.lora_B.default.weight', 'base_model.model.model.layers.28.mlp.up_proj.base_layer.weight', 'base_model.model.model.layers.28.mlp.up_proj.lora_A.default.weight', 'base_model.model.model.layers.28.mlp.up_proj.lora_B.default.weight', 'base_model.model.model.layers.28.mlp.down_proj.base_layer.weight', 'base_model.model.model.layers.28.mlp.down_proj.lora_A.default.weight', 'base_model.model.model.layers.28.mlp.down_proj.lora_B.default.weight', 'base_model.model.model.layers.28.input_layernorm.weight', 'base_model.model.model.layers.28.post_attention_layernorm.weight', 'base_model.model.model.layers.29.self_attn.q_proj.base_layer.weight', 'base_model.model.model.layers.29.self_attn.q_proj.lora_A.default.weight', 'base_model.model.model.layers.29.self_attn.q_proj.lora_B.default.weight', 'base_model.model.model.layers.29.self_attn.k_proj.base_layer.weight', 'base_model.model.model.layers.29.self_attn.k_proj.lora_A.default.weight', 'base_model.model.model.layers.29.self_attn.k_proj.lora_B.default.weight', 'base_model.model.model.layers.29.self_attn.v_proj.base_layer.weight', 'base_model.model.model.layers.29.self_attn.v_proj.lora_A.default.weight', 'base_model.model.model.layers.29.self_attn.v_proj.lora_B.default.weight', 'base_model.model.model.layers.29.self_attn.o_proj.base_layer.weight', 'base_model.model.model.layers.29.self_attn.o_proj.lora_A.default.weight', 'base_model.model.model.layers.29.self_attn.o_proj.lora_B.default.weight', 'base_model.model.model.layers.29.self_attn.rotary_emb.inv_freq', 'base_model.model.model.layers.29.mlp.gate_proj.base_layer.weight', 'base_model.model.model.layers.29.mlp.gate_proj.lora_A.default.weight', 'base_model.model.model.layers.29.mlp.gate_proj.lora_B.default.weight', 'base_model.model.model.layers.29.mlp.up_proj.base_layer.weight', 'base_model.model.model.layers.29.mlp.up_proj.lora_A.default.weight', 'base_model.model.model.layers.29.mlp.up_proj.lora_B.default.weight', 'base_model.model.model.layers.29.mlp.down_proj.base_layer.weight', 'base_model.model.model.layers.29.mlp.down_proj.lora_A.default.weight', 'base_model.model.model.layers.29.mlp.down_proj.lora_B.default.weight', 'base_model.model.model.layers.29.input_layernorm.weight', 'base_model.model.model.layers.29.post_attention_layernorm.weight', 'base_model.model.model.layers.30.self_attn.q_proj.base_layer.weight', 'base_model.model.model.layers.30.self_attn.q_proj.lora_A.default.weight', 'base_model.model.model.layers.30.self_attn.q_proj.lora_B.default.weight', 'base_model.model.model.layers.30.self_attn.k_proj.base_layer.weight', 'base_model.model.model.layers.30.self_attn.k_proj.lora_A.default.weight', 'base_model.model.model.layers.30.self_attn.k_proj.lora_B.default.weight', 'base_model.model.model.layers.30.self_attn.v_proj.base_layer.weight', 'base_model.model.model.layers.30.self_attn.v_proj.lora_A.default.weight', 'base_model.model.model.layers.30.self_attn.v_proj.lora_B.default.weight', 'base_model.model.model.layers.30.self_attn.o_proj.base_layer.weight', 'base_model.model.model.layers.30.self_attn.o_proj.lora_A.default.weight', 'base_model.model.model.layers.30.self_attn.o_proj.lora_B.default.weight', 'base_model.model.model.layers.30.self_attn.rotary_emb.inv_freq', 'base_model.model.model.layers.30.mlp.gate_proj.base_layer.weight', 'base_model.model.model.layers.30.mlp.gate_proj.lora_A.default.weight', 'base_model.model.model.layers.30.mlp.gate_proj.lora_B.default.weight', 'base_model.model.model.layers.30.mlp.up_proj.base_layer.weight', 'base_model.model.model.layers.30.mlp.up_proj.lora_A.default.weight', 'base_model.model.model.layers.30.mlp.up_proj.lora_B.default.weight', 'base_model.model.model.layers.30.mlp.down_proj.base_layer.weight', 'base_model.model.model.layers.30.mlp.down_proj.lora_A.default.weight', 'base_model.model.model.layers.30.mlp.down_proj.lora_B.default.weight', 'base_model.model.model.layers.30.input_layernorm.weight', 'base_model.model.model.layers.30.post_attention_layernorm.weight', 'base_model.model.model.layers.31.self_attn.q_proj.base_layer.weight', 'base_model.model.model.layers.31.self_attn.q_proj.lora_A.default.weight', 'base_model.model.model.layers.31.self_attn.q_proj.lora_B.default.weight', 'base_model.model.model.layers.31.self_attn.k_proj.base_layer.weight', 'base_model.model.model.layers.31.self_attn.k_proj.lora_A.default.weight', 'base_model.model.model.layers.31.self_attn.k_proj.lora_B.default.weight', 'base_model.model.model.layers.31.self_attn.v_proj.base_layer.weight', 'base_model.model.model.layers.31.self_attn.v_proj.lora_A.default.weight', 'base_model.model.model.layers.31.self_attn.v_proj.lora_B.default.weight', 'base_model.model.model.layers.31.self_attn.o_proj.base_layer.weight', 'base_model.model.model.layers.31.self_attn.o_proj.lora_A.default.weight', 'base_model.model.model.layers.31.self_attn.o_proj.lora_B.default.weight', 'base_model.model.model.layers.31.self_attn.rotary_emb.inv_freq', 'base_model.model.model.layers.31.mlp.gate_proj.base_layer.weight', 'base_model.model.model.layers.31.mlp.gate_proj.lora_A.default.weight', 'base_model.model.model.layers.31.mlp.gate_proj.lora_B.default.weight', 'base_model.model.model.layers.31.mlp.up_proj.base_layer.weight', 'base_model.model.model.layers.31.mlp.up_proj.lora_A.default.weight', 'base_model.model.model.layers.31.mlp.up_proj.lora_B.default.weight', 'base_model.model.model.layers.31.mlp.down_proj.base_layer.weight', 'base_model.model.model.layers.31.mlp.down_proj.lora_A.default.weight', 'base_model.model.model.layers.31.mlp.down_proj.lora_B.default.weight', 'base_model.model.model.layers.31.input_layernorm.weight', 'base_model.model.model.layers.31.post_attention_layernorm.weight', 'base_model.model.model.norm.weight', 'base_model.model.lm_head.weight'])"
      ]
     },
     "execution_count": 7,
     "metadata": {},
     "output_type": "execute_result"
    }
   ],
   "source": [
    "model.state_dict().keys()"
   ]
  },
  {
   "cell_type": "code",
   "execution_count": 12,
   "metadata": {},
   "outputs": [
    {
     "name": "stdout",
     "output_type": "stream",
     "text": [
      "base_model.model.model.layers.0.self_attn.rotary_emb.inv_freq\n"
     ]
    }
   ],
   "source": [
    "rotary_flag = False\n",
    "for keys in model.state_dict().keys():\n",
    "    if 'rotary_emb' in keys:\n",
    "        rotary_flag = True\n",
    "if rotary_flag:\n",
    "    print('need to lap up rotary_emb')"
   ]
  },
  {
   "cell_type": "code",
   "execution_count": 11,
   "metadata": {},
   "outputs": [
    {
     "data": {
      "text/plain": [
       "False"
      ]
     },
     "execution_count": 11,
     "metadata": {},
     "output_type": "execute_result"
    }
   ],
   "source": [
    "a"
   ]
  },
  {
   "cell_type": "code",
   "execution_count": 9,
   "metadata": {},
   "outputs": [
    {
     "data": {
      "text/plain": [
       "odict_keys(['module.base_model.model.model.embed_tokens.weight', 'module.base_model.model.model.layers.0.self_attn.q_proj.base_layer.weight', 'module.base_model.model.model.layers.0.self_attn.q_proj.lora_A.default.weight', 'module.base_model.model.model.layers.0.self_attn.q_proj.lora_B.default.weight', 'module.base_model.model.model.layers.0.self_attn.k_proj.base_layer.weight', 'module.base_model.model.model.layers.0.self_attn.k_proj.lora_A.default.weight', 'module.base_model.model.model.layers.0.self_attn.k_proj.lora_B.default.weight', 'module.base_model.model.model.layers.0.self_attn.v_proj.base_layer.weight', 'module.base_model.model.model.layers.0.self_attn.v_proj.lora_A.default.weight', 'module.base_model.model.model.layers.0.self_attn.v_proj.lora_B.default.weight', 'module.base_model.model.model.layers.0.self_attn.o_proj.base_layer.weight', 'module.base_model.model.model.layers.0.self_attn.o_proj.lora_A.default.weight', 'module.base_model.model.model.layers.0.self_attn.o_proj.lora_B.default.weight', 'module.base_model.model.model.layers.0.self_attn.rotary_emb.inv_freq', 'module.base_model.model.model.layers.0.mlp.gate_proj.base_layer.weight', 'module.base_model.model.model.layers.0.mlp.gate_proj.lora_A.default.weight', 'module.base_model.model.model.layers.0.mlp.gate_proj.lora_B.default.weight', 'module.base_model.model.model.layers.0.mlp.up_proj.base_layer.weight', 'module.base_model.model.model.layers.0.mlp.up_proj.lora_A.default.weight', 'module.base_model.model.model.layers.0.mlp.up_proj.lora_B.default.weight', 'module.base_model.model.model.layers.0.mlp.down_proj.base_layer.weight', 'module.base_model.model.model.layers.0.mlp.down_proj.lora_A.default.weight', 'module.base_model.model.model.layers.0.mlp.down_proj.lora_B.default.weight', 'module.base_model.model.model.layers.0.input_layernorm.weight', 'module.base_model.model.model.layers.0.post_attention_layernorm.weight', 'module.base_model.model.model.layers.1.self_attn.q_proj.base_layer.weight', 'module.base_model.model.model.layers.1.self_attn.q_proj.lora_A.default.weight', 'module.base_model.model.model.layers.1.self_attn.q_proj.lora_B.default.weight', 'module.base_model.model.model.layers.1.self_attn.k_proj.base_layer.weight', 'module.base_model.model.model.layers.1.self_attn.k_proj.lora_A.default.weight', 'module.base_model.model.model.layers.1.self_attn.k_proj.lora_B.default.weight', 'module.base_model.model.model.layers.1.self_attn.v_proj.base_layer.weight', 'module.base_model.model.model.layers.1.self_attn.v_proj.lora_A.default.weight', 'module.base_model.model.model.layers.1.self_attn.v_proj.lora_B.default.weight', 'module.base_model.model.model.layers.1.self_attn.o_proj.base_layer.weight', 'module.base_model.model.model.layers.1.self_attn.o_proj.lora_A.default.weight', 'module.base_model.model.model.layers.1.self_attn.o_proj.lora_B.default.weight', 'module.base_model.model.model.layers.1.self_attn.rotary_emb.inv_freq', 'module.base_model.model.model.layers.1.mlp.gate_proj.base_layer.weight', 'module.base_model.model.model.layers.1.mlp.gate_proj.lora_A.default.weight', 'module.base_model.model.model.layers.1.mlp.gate_proj.lora_B.default.weight', 'module.base_model.model.model.layers.1.mlp.up_proj.base_layer.weight', 'module.base_model.model.model.layers.1.mlp.up_proj.lora_A.default.weight', 'module.base_model.model.model.layers.1.mlp.up_proj.lora_B.default.weight', 'module.base_model.model.model.layers.1.mlp.down_proj.base_layer.weight', 'module.base_model.model.model.layers.1.mlp.down_proj.lora_A.default.weight', 'module.base_model.model.model.layers.1.mlp.down_proj.lora_B.default.weight', 'module.base_model.model.model.layers.1.input_layernorm.weight', 'module.base_model.model.model.layers.1.post_attention_layernorm.weight', 'module.base_model.model.model.layers.2.self_attn.q_proj.base_layer.weight', 'module.base_model.model.model.layers.2.self_attn.q_proj.lora_A.default.weight', 'module.base_model.model.model.layers.2.self_attn.q_proj.lora_B.default.weight', 'module.base_model.model.model.layers.2.self_attn.k_proj.base_layer.weight', 'module.base_model.model.model.layers.2.self_attn.k_proj.lora_A.default.weight', 'module.base_model.model.model.layers.2.self_attn.k_proj.lora_B.default.weight', 'module.base_model.model.model.layers.2.self_attn.v_proj.base_layer.weight', 'module.base_model.model.model.layers.2.self_attn.v_proj.lora_A.default.weight', 'module.base_model.model.model.layers.2.self_attn.v_proj.lora_B.default.weight', 'module.base_model.model.model.layers.2.self_attn.o_proj.base_layer.weight', 'module.base_model.model.model.layers.2.self_attn.o_proj.lora_A.default.weight', 'module.base_model.model.model.layers.2.self_attn.o_proj.lora_B.default.weight', 'module.base_model.model.model.layers.2.self_attn.rotary_emb.inv_freq', 'module.base_model.model.model.layers.2.mlp.gate_proj.base_layer.weight', 'module.base_model.model.model.layers.2.mlp.gate_proj.lora_A.default.weight', 'module.base_model.model.model.layers.2.mlp.gate_proj.lora_B.default.weight', 'module.base_model.model.model.layers.2.mlp.up_proj.base_layer.weight', 'module.base_model.model.model.layers.2.mlp.up_proj.lora_A.default.weight', 'module.base_model.model.model.layers.2.mlp.up_proj.lora_B.default.weight', 'module.base_model.model.model.layers.2.mlp.down_proj.base_layer.weight', 'module.base_model.model.model.layers.2.mlp.down_proj.lora_A.default.weight', 'module.base_model.model.model.layers.2.mlp.down_proj.lora_B.default.weight', 'module.base_model.model.model.layers.2.input_layernorm.weight', 'module.base_model.model.model.layers.2.post_attention_layernorm.weight', 'module.base_model.model.model.layers.3.self_attn.q_proj.base_layer.weight', 'module.base_model.model.model.layers.3.self_attn.q_proj.lora_A.default.weight', 'module.base_model.model.model.layers.3.self_attn.q_proj.lora_B.default.weight', 'module.base_model.model.model.layers.3.self_attn.k_proj.base_layer.weight', 'module.base_model.model.model.layers.3.self_attn.k_proj.lora_A.default.weight', 'module.base_model.model.model.layers.3.self_attn.k_proj.lora_B.default.weight', 'module.base_model.model.model.layers.3.self_attn.v_proj.base_layer.weight', 'module.base_model.model.model.layers.3.self_attn.v_proj.lora_A.default.weight', 'module.base_model.model.model.layers.3.self_attn.v_proj.lora_B.default.weight', 'module.base_model.model.model.layers.3.self_attn.o_proj.base_layer.weight', 'module.base_model.model.model.layers.3.self_attn.o_proj.lora_A.default.weight', 'module.base_model.model.model.layers.3.self_attn.o_proj.lora_B.default.weight', 'module.base_model.model.model.layers.3.self_attn.rotary_emb.inv_freq', 'module.base_model.model.model.layers.3.mlp.gate_proj.base_layer.weight', 'module.base_model.model.model.layers.3.mlp.gate_proj.lora_A.default.weight', 'module.base_model.model.model.layers.3.mlp.gate_proj.lora_B.default.weight', 'module.base_model.model.model.layers.3.mlp.up_proj.base_layer.weight', 'module.base_model.model.model.layers.3.mlp.up_proj.lora_A.default.weight', 'module.base_model.model.model.layers.3.mlp.up_proj.lora_B.default.weight', 'module.base_model.model.model.layers.3.mlp.down_proj.base_layer.weight', 'module.base_model.model.model.layers.3.mlp.down_proj.lora_A.default.weight', 'module.base_model.model.model.layers.3.mlp.down_proj.lora_B.default.weight', 'module.base_model.model.model.layers.3.input_layernorm.weight', 'module.base_model.model.model.layers.3.post_attention_layernorm.weight', 'module.base_model.model.model.layers.4.self_attn.q_proj.base_layer.weight', 'module.base_model.model.model.layers.4.self_attn.q_proj.lora_A.default.weight', 'module.base_model.model.model.layers.4.self_attn.q_proj.lora_B.default.weight', 'module.base_model.model.model.layers.4.self_attn.k_proj.base_layer.weight', 'module.base_model.model.model.layers.4.self_attn.k_proj.lora_A.default.weight', 'module.base_model.model.model.layers.4.self_attn.k_proj.lora_B.default.weight', 'module.base_model.model.model.layers.4.self_attn.v_proj.base_layer.weight', 'module.base_model.model.model.layers.4.self_attn.v_proj.lora_A.default.weight', 'module.base_model.model.model.layers.4.self_attn.v_proj.lora_B.default.weight', 'module.base_model.model.model.layers.4.self_attn.o_proj.base_layer.weight', 'module.base_model.model.model.layers.4.self_attn.o_proj.lora_A.default.weight', 'module.base_model.model.model.layers.4.self_attn.o_proj.lora_B.default.weight', 'module.base_model.model.model.layers.4.self_attn.rotary_emb.inv_freq', 'module.base_model.model.model.layers.4.mlp.gate_proj.base_layer.weight', 'module.base_model.model.model.layers.4.mlp.gate_proj.lora_A.default.weight', 'module.base_model.model.model.layers.4.mlp.gate_proj.lora_B.default.weight', 'module.base_model.model.model.layers.4.mlp.up_proj.base_layer.weight', 'module.base_model.model.model.layers.4.mlp.up_proj.lora_A.default.weight', 'module.base_model.model.model.layers.4.mlp.up_proj.lora_B.default.weight', 'module.base_model.model.model.layers.4.mlp.down_proj.base_layer.weight', 'module.base_model.model.model.layers.4.mlp.down_proj.lora_A.default.weight', 'module.base_model.model.model.layers.4.mlp.down_proj.lora_B.default.weight', 'module.base_model.model.model.layers.4.input_layernorm.weight', 'module.base_model.model.model.layers.4.post_attention_layernorm.weight', 'module.base_model.model.model.layers.5.self_attn.q_proj.base_layer.weight', 'module.base_model.model.model.layers.5.self_attn.q_proj.lora_A.default.weight', 'module.base_model.model.model.layers.5.self_attn.q_proj.lora_B.default.weight', 'module.base_model.model.model.layers.5.self_attn.k_proj.base_layer.weight', 'module.base_model.model.model.layers.5.self_attn.k_proj.lora_A.default.weight', 'module.base_model.model.model.layers.5.self_attn.k_proj.lora_B.default.weight', 'module.base_model.model.model.layers.5.self_attn.v_proj.base_layer.weight', 'module.base_model.model.model.layers.5.self_attn.v_proj.lora_A.default.weight', 'module.base_model.model.model.layers.5.self_attn.v_proj.lora_B.default.weight', 'module.base_model.model.model.layers.5.self_attn.o_proj.base_layer.weight', 'module.base_model.model.model.layers.5.self_attn.o_proj.lora_A.default.weight', 'module.base_model.model.model.layers.5.self_attn.o_proj.lora_B.default.weight', 'module.base_model.model.model.layers.5.self_attn.rotary_emb.inv_freq', 'module.base_model.model.model.layers.5.mlp.gate_proj.base_layer.weight', 'module.base_model.model.model.layers.5.mlp.gate_proj.lora_A.default.weight', 'module.base_model.model.model.layers.5.mlp.gate_proj.lora_B.default.weight', 'module.base_model.model.model.layers.5.mlp.up_proj.base_layer.weight', 'module.base_model.model.model.layers.5.mlp.up_proj.lora_A.default.weight', 'module.base_model.model.model.layers.5.mlp.up_proj.lora_B.default.weight', 'module.base_model.model.model.layers.5.mlp.down_proj.base_layer.weight', 'module.base_model.model.model.layers.5.mlp.down_proj.lora_A.default.weight', 'module.base_model.model.model.layers.5.mlp.down_proj.lora_B.default.weight', 'module.base_model.model.model.layers.5.input_layernorm.weight', 'module.base_model.model.model.layers.5.post_attention_layernorm.weight', 'module.base_model.model.model.layers.6.self_attn.q_proj.base_layer.weight', 'module.base_model.model.model.layers.6.self_attn.q_proj.lora_A.default.weight', 'module.base_model.model.model.layers.6.self_attn.q_proj.lora_B.default.weight', 'module.base_model.model.model.layers.6.self_attn.k_proj.base_layer.weight', 'module.base_model.model.model.layers.6.self_attn.k_proj.lora_A.default.weight', 'module.base_model.model.model.layers.6.self_attn.k_proj.lora_B.default.weight', 'module.base_model.model.model.layers.6.self_attn.v_proj.base_layer.weight', 'module.base_model.model.model.layers.6.self_attn.v_proj.lora_A.default.weight', 'module.base_model.model.model.layers.6.self_attn.v_proj.lora_B.default.weight', 'module.base_model.model.model.layers.6.self_attn.o_proj.base_layer.weight', 'module.base_model.model.model.layers.6.self_attn.o_proj.lora_A.default.weight', 'module.base_model.model.model.layers.6.self_attn.o_proj.lora_B.default.weight', 'module.base_model.model.model.layers.6.self_attn.rotary_emb.inv_freq', 'module.base_model.model.model.layers.6.mlp.gate_proj.base_layer.weight', 'module.base_model.model.model.layers.6.mlp.gate_proj.lora_A.default.weight', 'module.base_model.model.model.layers.6.mlp.gate_proj.lora_B.default.weight', 'module.base_model.model.model.layers.6.mlp.up_proj.base_layer.weight', 'module.base_model.model.model.layers.6.mlp.up_proj.lora_A.default.weight', 'module.base_model.model.model.layers.6.mlp.up_proj.lora_B.default.weight', 'module.base_model.model.model.layers.6.mlp.down_proj.base_layer.weight', 'module.base_model.model.model.layers.6.mlp.down_proj.lora_A.default.weight', 'module.base_model.model.model.layers.6.mlp.down_proj.lora_B.default.weight', 'module.base_model.model.model.layers.6.input_layernorm.weight', 'module.base_model.model.model.layers.6.post_attention_layernorm.weight', 'module.base_model.model.model.layers.7.self_attn.q_proj.base_layer.weight', 'module.base_model.model.model.layers.7.self_attn.q_proj.lora_A.default.weight', 'module.base_model.model.model.layers.7.self_attn.q_proj.lora_B.default.weight', 'module.base_model.model.model.layers.7.self_attn.k_proj.base_layer.weight', 'module.base_model.model.model.layers.7.self_attn.k_proj.lora_A.default.weight', 'module.base_model.model.model.layers.7.self_attn.k_proj.lora_B.default.weight', 'module.base_model.model.model.layers.7.self_attn.v_proj.base_layer.weight', 'module.base_model.model.model.layers.7.self_attn.v_proj.lora_A.default.weight', 'module.base_model.model.model.layers.7.self_attn.v_proj.lora_B.default.weight', 'module.base_model.model.model.layers.7.self_attn.o_proj.base_layer.weight', 'module.base_model.model.model.layers.7.self_attn.o_proj.lora_A.default.weight', 'module.base_model.model.model.layers.7.self_attn.o_proj.lora_B.default.weight', 'module.base_model.model.model.layers.7.self_attn.rotary_emb.inv_freq', 'module.base_model.model.model.layers.7.mlp.gate_proj.base_layer.weight', 'module.base_model.model.model.layers.7.mlp.gate_proj.lora_A.default.weight', 'module.base_model.model.model.layers.7.mlp.gate_proj.lora_B.default.weight', 'module.base_model.model.model.layers.7.mlp.up_proj.base_layer.weight', 'module.base_model.model.model.layers.7.mlp.up_proj.lora_A.default.weight', 'module.base_model.model.model.layers.7.mlp.up_proj.lora_B.default.weight', 'module.base_model.model.model.layers.7.mlp.down_proj.base_layer.weight', 'module.base_model.model.model.layers.7.mlp.down_proj.lora_A.default.weight', 'module.base_model.model.model.layers.7.mlp.down_proj.lora_B.default.weight', 'module.base_model.model.model.layers.7.input_layernorm.weight', 'module.base_model.model.model.layers.7.post_attention_layernorm.weight', 'module.base_model.model.model.layers.8.self_attn.q_proj.base_layer.weight', 'module.base_model.model.model.layers.8.self_attn.q_proj.lora_A.default.weight', 'module.base_model.model.model.layers.8.self_attn.q_proj.lora_B.default.weight', 'module.base_model.model.model.layers.8.self_attn.k_proj.base_layer.weight', 'module.base_model.model.model.layers.8.self_attn.k_proj.lora_A.default.weight', 'module.base_model.model.model.layers.8.self_attn.k_proj.lora_B.default.weight', 'module.base_model.model.model.layers.8.self_attn.v_proj.base_layer.weight', 'module.base_model.model.model.layers.8.self_attn.v_proj.lora_A.default.weight', 'module.base_model.model.model.layers.8.self_attn.v_proj.lora_B.default.weight', 'module.base_model.model.model.layers.8.self_attn.o_proj.base_layer.weight', 'module.base_model.model.model.layers.8.self_attn.o_proj.lora_A.default.weight', 'module.base_model.model.model.layers.8.self_attn.o_proj.lora_B.default.weight', 'module.base_model.model.model.layers.8.self_attn.rotary_emb.inv_freq', 'module.base_model.model.model.layers.8.mlp.gate_proj.base_layer.weight', 'module.base_model.model.model.layers.8.mlp.gate_proj.lora_A.default.weight', 'module.base_model.model.model.layers.8.mlp.gate_proj.lora_B.default.weight', 'module.base_model.model.model.layers.8.mlp.up_proj.base_layer.weight', 'module.base_model.model.model.layers.8.mlp.up_proj.lora_A.default.weight', 'module.base_model.model.model.layers.8.mlp.up_proj.lora_B.default.weight', 'module.base_model.model.model.layers.8.mlp.down_proj.base_layer.weight', 'module.base_model.model.model.layers.8.mlp.down_proj.lora_A.default.weight', 'module.base_model.model.model.layers.8.mlp.down_proj.lora_B.default.weight', 'module.base_model.model.model.layers.8.input_layernorm.weight', 'module.base_model.model.model.layers.8.post_attention_layernorm.weight', 'module.base_model.model.model.layers.9.self_attn.q_proj.base_layer.weight', 'module.base_model.model.model.layers.9.self_attn.q_proj.lora_A.default.weight', 'module.base_model.model.model.layers.9.self_attn.q_proj.lora_B.default.weight', 'module.base_model.model.model.layers.9.self_attn.k_proj.base_layer.weight', 'module.base_model.model.model.layers.9.self_attn.k_proj.lora_A.default.weight', 'module.base_model.model.model.layers.9.self_attn.k_proj.lora_B.default.weight', 'module.base_model.model.model.layers.9.self_attn.v_proj.base_layer.weight', 'module.base_model.model.model.layers.9.self_attn.v_proj.lora_A.default.weight', 'module.base_model.model.model.layers.9.self_attn.v_proj.lora_B.default.weight', 'module.base_model.model.model.layers.9.self_attn.o_proj.base_layer.weight', 'module.base_model.model.model.layers.9.self_attn.o_proj.lora_A.default.weight', 'module.base_model.model.model.layers.9.self_attn.o_proj.lora_B.default.weight', 'module.base_model.model.model.layers.9.self_attn.rotary_emb.inv_freq', 'module.base_model.model.model.layers.9.mlp.gate_proj.base_layer.weight', 'module.base_model.model.model.layers.9.mlp.gate_proj.lora_A.default.weight', 'module.base_model.model.model.layers.9.mlp.gate_proj.lora_B.default.weight', 'module.base_model.model.model.layers.9.mlp.up_proj.base_layer.weight', 'module.base_model.model.model.layers.9.mlp.up_proj.lora_A.default.weight', 'module.base_model.model.model.layers.9.mlp.up_proj.lora_B.default.weight', 'module.base_model.model.model.layers.9.mlp.down_proj.base_layer.weight', 'module.base_model.model.model.layers.9.mlp.down_proj.lora_A.default.weight', 'module.base_model.model.model.layers.9.mlp.down_proj.lora_B.default.weight', 'module.base_model.model.model.layers.9.input_layernorm.weight', 'module.base_model.model.model.layers.9.post_attention_layernorm.weight', 'module.base_model.model.model.layers.10.self_attn.q_proj.base_layer.weight', 'module.base_model.model.model.layers.10.self_attn.q_proj.lora_A.default.weight', 'module.base_model.model.model.layers.10.self_attn.q_proj.lora_B.default.weight', 'module.base_model.model.model.layers.10.self_attn.k_proj.base_layer.weight', 'module.base_model.model.model.layers.10.self_attn.k_proj.lora_A.default.weight', 'module.base_model.model.model.layers.10.self_attn.k_proj.lora_B.default.weight', 'module.base_model.model.model.layers.10.self_attn.v_proj.base_layer.weight', 'module.base_model.model.model.layers.10.self_attn.v_proj.lora_A.default.weight', 'module.base_model.model.model.layers.10.self_attn.v_proj.lora_B.default.weight', 'module.base_model.model.model.layers.10.self_attn.o_proj.base_layer.weight', 'module.base_model.model.model.layers.10.self_attn.o_proj.lora_A.default.weight', 'module.base_model.model.model.layers.10.self_attn.o_proj.lora_B.default.weight', 'module.base_model.model.model.layers.10.self_attn.rotary_emb.inv_freq', 'module.base_model.model.model.layers.10.mlp.gate_proj.base_layer.weight', 'module.base_model.model.model.layers.10.mlp.gate_proj.lora_A.default.weight', 'module.base_model.model.model.layers.10.mlp.gate_proj.lora_B.default.weight', 'module.base_model.model.model.layers.10.mlp.up_proj.base_layer.weight', 'module.base_model.model.model.layers.10.mlp.up_proj.lora_A.default.weight', 'module.base_model.model.model.layers.10.mlp.up_proj.lora_B.default.weight', 'module.base_model.model.model.layers.10.mlp.down_proj.base_layer.weight', 'module.base_model.model.model.layers.10.mlp.down_proj.lora_A.default.weight', 'module.base_model.model.model.layers.10.mlp.down_proj.lora_B.default.weight', 'module.base_model.model.model.layers.10.input_layernorm.weight', 'module.base_model.model.model.layers.10.post_attention_layernorm.weight', 'module.base_model.model.model.layers.11.self_attn.q_proj.base_layer.weight', 'module.base_model.model.model.layers.11.self_attn.q_proj.lora_A.default.weight', 'module.base_model.model.model.layers.11.self_attn.q_proj.lora_B.default.weight', 'module.base_model.model.model.layers.11.self_attn.k_proj.base_layer.weight', 'module.base_model.model.model.layers.11.self_attn.k_proj.lora_A.default.weight', 'module.base_model.model.model.layers.11.self_attn.k_proj.lora_B.default.weight', 'module.base_model.model.model.layers.11.self_attn.v_proj.base_layer.weight', 'module.base_model.model.model.layers.11.self_attn.v_proj.lora_A.default.weight', 'module.base_model.model.model.layers.11.self_attn.v_proj.lora_B.default.weight', 'module.base_model.model.model.layers.11.self_attn.o_proj.base_layer.weight', 'module.base_model.model.model.layers.11.self_attn.o_proj.lora_A.default.weight', 'module.base_model.model.model.layers.11.self_attn.o_proj.lora_B.default.weight', 'module.base_model.model.model.layers.11.self_attn.rotary_emb.inv_freq', 'module.base_model.model.model.layers.11.mlp.gate_proj.base_layer.weight', 'module.base_model.model.model.layers.11.mlp.gate_proj.lora_A.default.weight', 'module.base_model.model.model.layers.11.mlp.gate_proj.lora_B.default.weight', 'module.base_model.model.model.layers.11.mlp.up_proj.base_layer.weight', 'module.base_model.model.model.layers.11.mlp.up_proj.lora_A.default.weight', 'module.base_model.model.model.layers.11.mlp.up_proj.lora_B.default.weight', 'module.base_model.model.model.layers.11.mlp.down_proj.base_layer.weight', 'module.base_model.model.model.layers.11.mlp.down_proj.lora_A.default.weight', 'module.base_model.model.model.layers.11.mlp.down_proj.lora_B.default.weight', 'module.base_model.model.model.layers.11.input_layernorm.weight', 'module.base_model.model.model.layers.11.post_attention_layernorm.weight', 'module.base_model.model.model.layers.12.self_attn.q_proj.base_layer.weight', 'module.base_model.model.model.layers.12.self_attn.q_proj.lora_A.default.weight', 'module.base_model.model.model.layers.12.self_attn.q_proj.lora_B.default.weight', 'module.base_model.model.model.layers.12.self_attn.k_proj.base_layer.weight', 'module.base_model.model.model.layers.12.self_attn.k_proj.lora_A.default.weight', 'module.base_model.model.model.layers.12.self_attn.k_proj.lora_B.default.weight', 'module.base_model.model.model.layers.12.self_attn.v_proj.base_layer.weight', 'module.base_model.model.model.layers.12.self_attn.v_proj.lora_A.default.weight', 'module.base_model.model.model.layers.12.self_attn.v_proj.lora_B.default.weight', 'module.base_model.model.model.layers.12.self_attn.o_proj.base_layer.weight', 'module.base_model.model.model.layers.12.self_attn.o_proj.lora_A.default.weight', 'module.base_model.model.model.layers.12.self_attn.o_proj.lora_B.default.weight', 'module.base_model.model.model.layers.12.self_attn.rotary_emb.inv_freq', 'module.base_model.model.model.layers.12.mlp.gate_proj.base_layer.weight', 'module.base_model.model.model.layers.12.mlp.gate_proj.lora_A.default.weight', 'module.base_model.model.model.layers.12.mlp.gate_proj.lora_B.default.weight', 'module.base_model.model.model.layers.12.mlp.up_proj.base_layer.weight', 'module.base_model.model.model.layers.12.mlp.up_proj.lora_A.default.weight', 'module.base_model.model.model.layers.12.mlp.up_proj.lora_B.default.weight', 'module.base_model.model.model.layers.12.mlp.down_proj.base_layer.weight', 'module.base_model.model.model.layers.12.mlp.down_proj.lora_A.default.weight', 'module.base_model.model.model.layers.12.mlp.down_proj.lora_B.default.weight', 'module.base_model.model.model.layers.12.input_layernorm.weight', 'module.base_model.model.model.layers.12.post_attention_layernorm.weight', 'module.base_model.model.model.layers.13.self_attn.q_proj.base_layer.weight', 'module.base_model.model.model.layers.13.self_attn.q_proj.lora_A.default.weight', 'module.base_model.model.model.layers.13.self_attn.q_proj.lora_B.default.weight', 'module.base_model.model.model.layers.13.self_attn.k_proj.base_layer.weight', 'module.base_model.model.model.layers.13.self_attn.k_proj.lora_A.default.weight', 'module.base_model.model.model.layers.13.self_attn.k_proj.lora_B.default.weight', 'module.base_model.model.model.layers.13.self_attn.v_proj.base_layer.weight', 'module.base_model.model.model.layers.13.self_attn.v_proj.lora_A.default.weight', 'module.base_model.model.model.layers.13.self_attn.v_proj.lora_B.default.weight', 'module.base_model.model.model.layers.13.self_attn.o_proj.base_layer.weight', 'module.base_model.model.model.layers.13.self_attn.o_proj.lora_A.default.weight', 'module.base_model.model.model.layers.13.self_attn.o_proj.lora_B.default.weight', 'module.base_model.model.model.layers.13.self_attn.rotary_emb.inv_freq', 'module.base_model.model.model.layers.13.mlp.gate_proj.base_layer.weight', 'module.base_model.model.model.layers.13.mlp.gate_proj.lora_A.default.weight', 'module.base_model.model.model.layers.13.mlp.gate_proj.lora_B.default.weight', 'module.base_model.model.model.layers.13.mlp.up_proj.base_layer.weight', 'module.base_model.model.model.layers.13.mlp.up_proj.lora_A.default.weight', 'module.base_model.model.model.layers.13.mlp.up_proj.lora_B.default.weight', 'module.base_model.model.model.layers.13.mlp.down_proj.base_layer.weight', 'module.base_model.model.model.layers.13.mlp.down_proj.lora_A.default.weight', 'module.base_model.model.model.layers.13.mlp.down_proj.lora_B.default.weight', 'module.base_model.model.model.layers.13.input_layernorm.weight', 'module.base_model.model.model.layers.13.post_attention_layernorm.weight', 'module.base_model.model.model.layers.14.self_attn.q_proj.base_layer.weight', 'module.base_model.model.model.layers.14.self_attn.q_proj.lora_A.default.weight', 'module.base_model.model.model.layers.14.self_attn.q_proj.lora_B.default.weight', 'module.base_model.model.model.layers.14.self_attn.k_proj.base_layer.weight', 'module.base_model.model.model.layers.14.self_attn.k_proj.lora_A.default.weight', 'module.base_model.model.model.layers.14.self_attn.k_proj.lora_B.default.weight', 'module.base_model.model.model.layers.14.self_attn.v_proj.base_layer.weight', 'module.base_model.model.model.layers.14.self_attn.v_proj.lora_A.default.weight', 'module.base_model.model.model.layers.14.self_attn.v_proj.lora_B.default.weight', 'module.base_model.model.model.layers.14.self_attn.o_proj.base_layer.weight', 'module.base_model.model.model.layers.14.self_attn.o_proj.lora_A.default.weight', 'module.base_model.model.model.layers.14.self_attn.o_proj.lora_B.default.weight', 'module.base_model.model.model.layers.14.self_attn.rotary_emb.inv_freq', 'module.base_model.model.model.layers.14.mlp.gate_proj.base_layer.weight', 'module.base_model.model.model.layers.14.mlp.gate_proj.lora_A.default.weight', 'module.base_model.model.model.layers.14.mlp.gate_proj.lora_B.default.weight', 'module.base_model.model.model.layers.14.mlp.up_proj.base_layer.weight', 'module.base_model.model.model.layers.14.mlp.up_proj.lora_A.default.weight', 'module.base_model.model.model.layers.14.mlp.up_proj.lora_B.default.weight', 'module.base_model.model.model.layers.14.mlp.down_proj.base_layer.weight', 'module.base_model.model.model.layers.14.mlp.down_proj.lora_A.default.weight', 'module.base_model.model.model.layers.14.mlp.down_proj.lora_B.default.weight', 'module.base_model.model.model.layers.14.input_layernorm.weight', 'module.base_model.model.model.layers.14.post_attention_layernorm.weight', 'module.base_model.model.model.layers.15.self_attn.q_proj.base_layer.weight', 'module.base_model.model.model.layers.15.self_attn.q_proj.lora_A.default.weight', 'module.base_model.model.model.layers.15.self_attn.q_proj.lora_B.default.weight', 'module.base_model.model.model.layers.15.self_attn.k_proj.base_layer.weight', 'module.base_model.model.model.layers.15.self_attn.k_proj.lora_A.default.weight', 'module.base_model.model.model.layers.15.self_attn.k_proj.lora_B.default.weight', 'module.base_model.model.model.layers.15.self_attn.v_proj.base_layer.weight', 'module.base_model.model.model.layers.15.self_attn.v_proj.lora_A.default.weight', 'module.base_model.model.model.layers.15.self_attn.v_proj.lora_B.default.weight', 'module.base_model.model.model.layers.15.self_attn.o_proj.base_layer.weight', 'module.base_model.model.model.layers.15.self_attn.o_proj.lora_A.default.weight', 'module.base_model.model.model.layers.15.self_attn.o_proj.lora_B.default.weight', 'module.base_model.model.model.layers.15.self_attn.rotary_emb.inv_freq', 'module.base_model.model.model.layers.15.mlp.gate_proj.base_layer.weight', 'module.base_model.model.model.layers.15.mlp.gate_proj.lora_A.default.weight', 'module.base_model.model.model.layers.15.mlp.gate_proj.lora_B.default.weight', 'module.base_model.model.model.layers.15.mlp.up_proj.base_layer.weight', 'module.base_model.model.model.layers.15.mlp.up_proj.lora_A.default.weight', 'module.base_model.model.model.layers.15.mlp.up_proj.lora_B.default.weight', 'module.base_model.model.model.layers.15.mlp.down_proj.base_layer.weight', 'module.base_model.model.model.layers.15.mlp.down_proj.lora_A.default.weight', 'module.base_model.model.model.layers.15.mlp.down_proj.lora_B.default.weight', 'module.base_model.model.model.layers.15.input_layernorm.weight', 'module.base_model.model.model.layers.15.post_attention_layernorm.weight', 'module.base_model.model.model.layers.16.self_attn.q_proj.base_layer.weight', 'module.base_model.model.model.layers.16.self_attn.q_proj.lora_A.default.weight', 'module.base_model.model.model.layers.16.self_attn.q_proj.lora_B.default.weight', 'module.base_model.model.model.layers.16.self_attn.k_proj.base_layer.weight', 'module.base_model.model.model.layers.16.self_attn.k_proj.lora_A.default.weight', 'module.base_model.model.model.layers.16.self_attn.k_proj.lora_B.default.weight', 'module.base_model.model.model.layers.16.self_attn.v_proj.base_layer.weight', 'module.base_model.model.model.layers.16.self_attn.v_proj.lora_A.default.weight', 'module.base_model.model.model.layers.16.self_attn.v_proj.lora_B.default.weight', 'module.base_model.model.model.layers.16.self_attn.o_proj.base_layer.weight', 'module.base_model.model.model.layers.16.self_attn.o_proj.lora_A.default.weight', 'module.base_model.model.model.layers.16.self_attn.o_proj.lora_B.default.weight', 'module.base_model.model.model.layers.16.self_attn.rotary_emb.inv_freq', 'module.base_model.model.model.layers.16.mlp.gate_proj.base_layer.weight', 'module.base_model.model.model.layers.16.mlp.gate_proj.lora_A.default.weight', 'module.base_model.model.model.layers.16.mlp.gate_proj.lora_B.default.weight', 'module.base_model.model.model.layers.16.mlp.up_proj.base_layer.weight', 'module.base_model.model.model.layers.16.mlp.up_proj.lora_A.default.weight', 'module.base_model.model.model.layers.16.mlp.up_proj.lora_B.default.weight', 'module.base_model.model.model.layers.16.mlp.down_proj.base_layer.weight', 'module.base_model.model.model.layers.16.mlp.down_proj.lora_A.default.weight', 'module.base_model.model.model.layers.16.mlp.down_proj.lora_B.default.weight', 'module.base_model.model.model.layers.16.input_layernorm.weight', 'module.base_model.model.model.layers.16.post_attention_layernorm.weight', 'module.base_model.model.model.layers.17.self_attn.q_proj.base_layer.weight', 'module.base_model.model.model.layers.17.self_attn.q_proj.lora_A.default.weight', 'module.base_model.model.model.layers.17.self_attn.q_proj.lora_B.default.weight', 'module.base_model.model.model.layers.17.self_attn.k_proj.base_layer.weight', 'module.base_model.model.model.layers.17.self_attn.k_proj.lora_A.default.weight', 'module.base_model.model.model.layers.17.self_attn.k_proj.lora_B.default.weight', 'module.base_model.model.model.layers.17.self_attn.v_proj.base_layer.weight', 'module.base_model.model.model.layers.17.self_attn.v_proj.lora_A.default.weight', 'module.base_model.model.model.layers.17.self_attn.v_proj.lora_B.default.weight', 'module.base_model.model.model.layers.17.self_attn.o_proj.base_layer.weight', 'module.base_model.model.model.layers.17.self_attn.o_proj.lora_A.default.weight', 'module.base_model.model.model.layers.17.self_attn.o_proj.lora_B.default.weight', 'module.base_model.model.model.layers.17.self_attn.rotary_emb.inv_freq', 'module.base_model.model.model.layers.17.mlp.gate_proj.base_layer.weight', 'module.base_model.model.model.layers.17.mlp.gate_proj.lora_A.default.weight', 'module.base_model.model.model.layers.17.mlp.gate_proj.lora_B.default.weight', 'module.base_model.model.model.layers.17.mlp.up_proj.base_layer.weight', 'module.base_model.model.model.layers.17.mlp.up_proj.lora_A.default.weight', 'module.base_model.model.model.layers.17.mlp.up_proj.lora_B.default.weight', 'module.base_model.model.model.layers.17.mlp.down_proj.base_layer.weight', 'module.base_model.model.model.layers.17.mlp.down_proj.lora_A.default.weight', 'module.base_model.model.model.layers.17.mlp.down_proj.lora_B.default.weight', 'module.base_model.model.model.layers.17.input_layernorm.weight', 'module.base_model.model.model.layers.17.post_attention_layernorm.weight', 'module.base_model.model.model.layers.18.self_attn.q_proj.base_layer.weight', 'module.base_model.model.model.layers.18.self_attn.q_proj.lora_A.default.weight', 'module.base_model.model.model.layers.18.self_attn.q_proj.lora_B.default.weight', 'module.base_model.model.model.layers.18.self_attn.k_proj.base_layer.weight', 'module.base_model.model.model.layers.18.self_attn.k_proj.lora_A.default.weight', 'module.base_model.model.model.layers.18.self_attn.k_proj.lora_B.default.weight', 'module.base_model.model.model.layers.18.self_attn.v_proj.base_layer.weight', 'module.base_model.model.model.layers.18.self_attn.v_proj.lora_A.default.weight', 'module.base_model.model.model.layers.18.self_attn.v_proj.lora_B.default.weight', 'module.base_model.model.model.layers.18.self_attn.o_proj.base_layer.weight', 'module.base_model.model.model.layers.18.self_attn.o_proj.lora_A.default.weight', 'module.base_model.model.model.layers.18.self_attn.o_proj.lora_B.default.weight', 'module.base_model.model.model.layers.18.self_attn.rotary_emb.inv_freq', 'module.base_model.model.model.layers.18.mlp.gate_proj.base_layer.weight', 'module.base_model.model.model.layers.18.mlp.gate_proj.lora_A.default.weight', 'module.base_model.model.model.layers.18.mlp.gate_proj.lora_B.default.weight', 'module.base_model.model.model.layers.18.mlp.up_proj.base_layer.weight', 'module.base_model.model.model.layers.18.mlp.up_proj.lora_A.default.weight', 'module.base_model.model.model.layers.18.mlp.up_proj.lora_B.default.weight', 'module.base_model.model.model.layers.18.mlp.down_proj.base_layer.weight', 'module.base_model.model.model.layers.18.mlp.down_proj.lora_A.default.weight', 'module.base_model.model.model.layers.18.mlp.down_proj.lora_B.default.weight', 'module.base_model.model.model.layers.18.input_layernorm.weight', 'module.base_model.model.model.layers.18.post_attention_layernorm.weight', 'module.base_model.model.model.layers.19.self_attn.q_proj.base_layer.weight', 'module.base_model.model.model.layers.19.self_attn.q_proj.lora_A.default.weight', 'module.base_model.model.model.layers.19.self_attn.q_proj.lora_B.default.weight', 'module.base_model.model.model.layers.19.self_attn.k_proj.base_layer.weight', 'module.base_model.model.model.layers.19.self_attn.k_proj.lora_A.default.weight', 'module.base_model.model.model.layers.19.self_attn.k_proj.lora_B.default.weight', 'module.base_model.model.model.layers.19.self_attn.v_proj.base_layer.weight', 'module.base_model.model.model.layers.19.self_attn.v_proj.lora_A.default.weight', 'module.base_model.model.model.layers.19.self_attn.v_proj.lora_B.default.weight', 'module.base_model.model.model.layers.19.self_attn.o_proj.base_layer.weight', 'module.base_model.model.model.layers.19.self_attn.o_proj.lora_A.default.weight', 'module.base_model.model.model.layers.19.self_attn.o_proj.lora_B.default.weight', 'module.base_model.model.model.layers.19.self_attn.rotary_emb.inv_freq', 'module.base_model.model.model.layers.19.mlp.gate_proj.base_layer.weight', 'module.base_model.model.model.layers.19.mlp.gate_proj.lora_A.default.weight', 'module.base_model.model.model.layers.19.mlp.gate_proj.lora_B.default.weight', 'module.base_model.model.model.layers.19.mlp.up_proj.base_layer.weight', 'module.base_model.model.model.layers.19.mlp.up_proj.lora_A.default.weight', 'module.base_model.model.model.layers.19.mlp.up_proj.lora_B.default.weight', 'module.base_model.model.model.layers.19.mlp.down_proj.base_layer.weight', 'module.base_model.model.model.layers.19.mlp.down_proj.lora_A.default.weight', 'module.base_model.model.model.layers.19.mlp.down_proj.lora_B.default.weight', 'module.base_model.model.model.layers.19.input_layernorm.weight', 'module.base_model.model.model.layers.19.post_attention_layernorm.weight', 'module.base_model.model.model.layers.20.self_attn.q_proj.base_layer.weight', 'module.base_model.model.model.layers.20.self_attn.q_proj.lora_A.default.weight', 'module.base_model.model.model.layers.20.self_attn.q_proj.lora_B.default.weight', 'module.base_model.model.model.layers.20.self_attn.k_proj.base_layer.weight', 'module.base_model.model.model.layers.20.self_attn.k_proj.lora_A.default.weight', 'module.base_model.model.model.layers.20.self_attn.k_proj.lora_B.default.weight', 'module.base_model.model.model.layers.20.self_attn.v_proj.base_layer.weight', 'module.base_model.model.model.layers.20.self_attn.v_proj.lora_A.default.weight', 'module.base_model.model.model.layers.20.self_attn.v_proj.lora_B.default.weight', 'module.base_model.model.model.layers.20.self_attn.o_proj.base_layer.weight', 'module.base_model.model.model.layers.20.self_attn.o_proj.lora_A.default.weight', 'module.base_model.model.model.layers.20.self_attn.o_proj.lora_B.default.weight', 'module.base_model.model.model.layers.20.self_attn.rotary_emb.inv_freq', 'module.base_model.model.model.layers.20.mlp.gate_proj.base_layer.weight', 'module.base_model.model.model.layers.20.mlp.gate_proj.lora_A.default.weight', 'module.base_model.model.model.layers.20.mlp.gate_proj.lora_B.default.weight', 'module.base_model.model.model.layers.20.mlp.up_proj.base_layer.weight', 'module.base_model.model.model.layers.20.mlp.up_proj.lora_A.default.weight', 'module.base_model.model.model.layers.20.mlp.up_proj.lora_B.default.weight', 'module.base_model.model.model.layers.20.mlp.down_proj.base_layer.weight', 'module.base_model.model.model.layers.20.mlp.down_proj.lora_A.default.weight', 'module.base_model.model.model.layers.20.mlp.down_proj.lora_B.default.weight', 'module.base_model.model.model.layers.20.input_layernorm.weight', 'module.base_model.model.model.layers.20.post_attention_layernorm.weight', 'module.base_model.model.model.layers.21.self_attn.q_proj.base_layer.weight', 'module.base_model.model.model.layers.21.self_attn.q_proj.lora_A.default.weight', 'module.base_model.model.model.layers.21.self_attn.q_proj.lora_B.default.weight', 'module.base_model.model.model.layers.21.self_attn.k_proj.base_layer.weight', 'module.base_model.model.model.layers.21.self_attn.k_proj.lora_A.default.weight', 'module.base_model.model.model.layers.21.self_attn.k_proj.lora_B.default.weight', 'module.base_model.model.model.layers.21.self_attn.v_proj.base_layer.weight', 'module.base_model.model.model.layers.21.self_attn.v_proj.lora_A.default.weight', 'module.base_model.model.model.layers.21.self_attn.v_proj.lora_B.default.weight', 'module.base_model.model.model.layers.21.self_attn.o_proj.base_layer.weight', 'module.base_model.model.model.layers.21.self_attn.o_proj.lora_A.default.weight', 'module.base_model.model.model.layers.21.self_attn.o_proj.lora_B.default.weight', 'module.base_model.model.model.layers.21.self_attn.rotary_emb.inv_freq', 'module.base_model.model.model.layers.21.mlp.gate_proj.base_layer.weight', 'module.base_model.model.model.layers.21.mlp.gate_proj.lora_A.default.weight', 'module.base_model.model.model.layers.21.mlp.gate_proj.lora_B.default.weight', 'module.base_model.model.model.layers.21.mlp.up_proj.base_layer.weight', 'module.base_model.model.model.layers.21.mlp.up_proj.lora_A.default.weight', 'module.base_model.model.model.layers.21.mlp.up_proj.lora_B.default.weight', 'module.base_model.model.model.layers.21.mlp.down_proj.base_layer.weight', 'module.base_model.model.model.layers.21.mlp.down_proj.lora_A.default.weight', 'module.base_model.model.model.layers.21.mlp.down_proj.lora_B.default.weight', 'module.base_model.model.model.layers.21.input_layernorm.weight', 'module.base_model.model.model.layers.21.post_attention_layernorm.weight', 'module.base_model.model.model.layers.22.self_attn.q_proj.base_layer.weight', 'module.base_model.model.model.layers.22.self_attn.q_proj.lora_A.default.weight', 'module.base_model.model.model.layers.22.self_attn.q_proj.lora_B.default.weight', 'module.base_model.model.model.layers.22.self_attn.k_proj.base_layer.weight', 'module.base_model.model.model.layers.22.self_attn.k_proj.lora_A.default.weight', 'module.base_model.model.model.layers.22.self_attn.k_proj.lora_B.default.weight', 'module.base_model.model.model.layers.22.self_attn.v_proj.base_layer.weight', 'module.base_model.model.model.layers.22.self_attn.v_proj.lora_A.default.weight', 'module.base_model.model.model.layers.22.self_attn.v_proj.lora_B.default.weight', 'module.base_model.model.model.layers.22.self_attn.o_proj.base_layer.weight', 'module.base_model.model.model.layers.22.self_attn.o_proj.lora_A.default.weight', 'module.base_model.model.model.layers.22.self_attn.o_proj.lora_B.default.weight', 'module.base_model.model.model.layers.22.self_attn.rotary_emb.inv_freq', 'module.base_model.model.model.layers.22.mlp.gate_proj.base_layer.weight', 'module.base_model.model.model.layers.22.mlp.gate_proj.lora_A.default.weight', 'module.base_model.model.model.layers.22.mlp.gate_proj.lora_B.default.weight', 'module.base_model.model.model.layers.22.mlp.up_proj.base_layer.weight', 'module.base_model.model.model.layers.22.mlp.up_proj.lora_A.default.weight', 'module.base_model.model.model.layers.22.mlp.up_proj.lora_B.default.weight', 'module.base_model.model.model.layers.22.mlp.down_proj.base_layer.weight', 'module.base_model.model.model.layers.22.mlp.down_proj.lora_A.default.weight', 'module.base_model.model.model.layers.22.mlp.down_proj.lora_B.default.weight', 'module.base_model.model.model.layers.22.input_layernorm.weight', 'module.base_model.model.model.layers.22.post_attention_layernorm.weight', 'module.base_model.model.model.layers.23.self_attn.q_proj.base_layer.weight', 'module.base_model.model.model.layers.23.self_attn.q_proj.lora_A.default.weight', 'module.base_model.model.model.layers.23.self_attn.q_proj.lora_B.default.weight', 'module.base_model.model.model.layers.23.self_attn.k_proj.base_layer.weight', 'module.base_model.model.model.layers.23.self_attn.k_proj.lora_A.default.weight', 'module.base_model.model.model.layers.23.self_attn.k_proj.lora_B.default.weight', 'module.base_model.model.model.layers.23.self_attn.v_proj.base_layer.weight', 'module.base_model.model.model.layers.23.self_attn.v_proj.lora_A.default.weight', 'module.base_model.model.model.layers.23.self_attn.v_proj.lora_B.default.weight', 'module.base_model.model.model.layers.23.self_attn.o_proj.base_layer.weight', 'module.base_model.model.model.layers.23.self_attn.o_proj.lora_A.default.weight', 'module.base_model.model.model.layers.23.self_attn.o_proj.lora_B.default.weight', 'module.base_model.model.model.layers.23.self_attn.rotary_emb.inv_freq', 'module.base_model.model.model.layers.23.mlp.gate_proj.base_layer.weight', 'module.base_model.model.model.layers.23.mlp.gate_proj.lora_A.default.weight', 'module.base_model.model.model.layers.23.mlp.gate_proj.lora_B.default.weight', 'module.base_model.model.model.layers.23.mlp.up_proj.base_layer.weight', 'module.base_model.model.model.layers.23.mlp.up_proj.lora_A.default.weight', 'module.base_model.model.model.layers.23.mlp.up_proj.lora_B.default.weight', 'module.base_model.model.model.layers.23.mlp.down_proj.base_layer.weight', 'module.base_model.model.model.layers.23.mlp.down_proj.lora_A.default.weight', 'module.base_model.model.model.layers.23.mlp.down_proj.lora_B.default.weight', 'module.base_model.model.model.layers.23.input_layernorm.weight', 'module.base_model.model.model.layers.23.post_attention_layernorm.weight', 'module.base_model.model.model.layers.24.self_attn.q_proj.base_layer.weight', 'module.base_model.model.model.layers.24.self_attn.q_proj.lora_A.default.weight', 'module.base_model.model.model.layers.24.self_attn.q_proj.lora_B.default.weight', 'module.base_model.model.model.layers.24.self_attn.k_proj.base_layer.weight', 'module.base_model.model.model.layers.24.self_attn.k_proj.lora_A.default.weight', 'module.base_model.model.model.layers.24.self_attn.k_proj.lora_B.default.weight', 'module.base_model.model.model.layers.24.self_attn.v_proj.base_layer.weight', 'module.base_model.model.model.layers.24.self_attn.v_proj.lora_A.default.weight', 'module.base_model.model.model.layers.24.self_attn.v_proj.lora_B.default.weight', 'module.base_model.model.model.layers.24.self_attn.o_proj.base_layer.weight', 'module.base_model.model.model.layers.24.self_attn.o_proj.lora_A.default.weight', 'module.base_model.model.model.layers.24.self_attn.o_proj.lora_B.default.weight', 'module.base_model.model.model.layers.24.self_attn.rotary_emb.inv_freq', 'module.base_model.model.model.layers.24.mlp.gate_proj.base_layer.weight', 'module.base_model.model.model.layers.24.mlp.gate_proj.lora_A.default.weight', 'module.base_model.model.model.layers.24.mlp.gate_proj.lora_B.default.weight', 'module.base_model.model.model.layers.24.mlp.up_proj.base_layer.weight', 'module.base_model.model.model.layers.24.mlp.up_proj.lora_A.default.weight', 'module.base_model.model.model.layers.24.mlp.up_proj.lora_B.default.weight', 'module.base_model.model.model.layers.24.mlp.down_proj.base_layer.weight', 'module.base_model.model.model.layers.24.mlp.down_proj.lora_A.default.weight', 'module.base_model.model.model.layers.24.mlp.down_proj.lora_B.default.weight', 'module.base_model.model.model.layers.24.input_layernorm.weight', 'module.base_model.model.model.layers.24.post_attention_layernorm.weight', 'module.base_model.model.model.layers.25.self_attn.q_proj.base_layer.weight', 'module.base_model.model.model.layers.25.self_attn.q_proj.lora_A.default.weight', 'module.base_model.model.model.layers.25.self_attn.q_proj.lora_B.default.weight', 'module.base_model.model.model.layers.25.self_attn.k_proj.base_layer.weight', 'module.base_model.model.model.layers.25.self_attn.k_proj.lora_A.default.weight', 'module.base_model.model.model.layers.25.self_attn.k_proj.lora_B.default.weight', 'module.base_model.model.model.layers.25.self_attn.v_proj.base_layer.weight', 'module.base_model.model.model.layers.25.self_attn.v_proj.lora_A.default.weight', 'module.base_model.model.model.layers.25.self_attn.v_proj.lora_B.default.weight', 'module.base_model.model.model.layers.25.self_attn.o_proj.base_layer.weight', 'module.base_model.model.model.layers.25.self_attn.o_proj.lora_A.default.weight', 'module.base_model.model.model.layers.25.self_attn.o_proj.lora_B.default.weight', 'module.base_model.model.model.layers.25.self_attn.rotary_emb.inv_freq', 'module.base_model.model.model.layers.25.mlp.gate_proj.base_layer.weight', 'module.base_model.model.model.layers.25.mlp.gate_proj.lora_A.default.weight', 'module.base_model.model.model.layers.25.mlp.gate_proj.lora_B.default.weight', 'module.base_model.model.model.layers.25.mlp.up_proj.base_layer.weight', 'module.base_model.model.model.layers.25.mlp.up_proj.lora_A.default.weight', 'module.base_model.model.model.layers.25.mlp.up_proj.lora_B.default.weight', 'module.base_model.model.model.layers.25.mlp.down_proj.base_layer.weight', 'module.base_model.model.model.layers.25.mlp.down_proj.lora_A.default.weight', 'module.base_model.model.model.layers.25.mlp.down_proj.lora_B.default.weight', 'module.base_model.model.model.layers.25.input_layernorm.weight', 'module.base_model.model.model.layers.25.post_attention_layernorm.weight', 'module.base_model.model.model.layers.26.self_attn.q_proj.base_layer.weight', 'module.base_model.model.model.layers.26.self_attn.q_proj.lora_A.default.weight', 'module.base_model.model.model.layers.26.self_attn.q_proj.lora_B.default.weight', 'module.base_model.model.model.layers.26.self_attn.k_proj.base_layer.weight', 'module.base_model.model.model.layers.26.self_attn.k_proj.lora_A.default.weight', 'module.base_model.model.model.layers.26.self_attn.k_proj.lora_B.default.weight', 'module.base_model.model.model.layers.26.self_attn.v_proj.base_layer.weight', 'module.base_model.model.model.layers.26.self_attn.v_proj.lora_A.default.weight', 'module.base_model.model.model.layers.26.self_attn.v_proj.lora_B.default.weight', 'module.base_model.model.model.layers.26.self_attn.o_proj.base_layer.weight', 'module.base_model.model.model.layers.26.self_attn.o_proj.lora_A.default.weight', 'module.base_model.model.model.layers.26.self_attn.o_proj.lora_B.default.weight', 'module.base_model.model.model.layers.26.self_attn.rotary_emb.inv_freq', 'module.base_model.model.model.layers.26.mlp.gate_proj.base_layer.weight', 'module.base_model.model.model.layers.26.mlp.gate_proj.lora_A.default.weight', 'module.base_model.model.model.layers.26.mlp.gate_proj.lora_B.default.weight', 'module.base_model.model.model.layers.26.mlp.up_proj.base_layer.weight', 'module.base_model.model.model.layers.26.mlp.up_proj.lora_A.default.weight', 'module.base_model.model.model.layers.26.mlp.up_proj.lora_B.default.weight', 'module.base_model.model.model.layers.26.mlp.down_proj.base_layer.weight', 'module.base_model.model.model.layers.26.mlp.down_proj.lora_A.default.weight', 'module.base_model.model.model.layers.26.mlp.down_proj.lora_B.default.weight', 'module.base_model.model.model.layers.26.input_layernorm.weight', 'module.base_model.model.model.layers.26.post_attention_layernorm.weight', 'module.base_model.model.model.layers.27.self_attn.q_proj.base_layer.weight', 'module.base_model.model.model.layers.27.self_attn.q_proj.lora_A.default.weight', 'module.base_model.model.model.layers.27.self_attn.q_proj.lora_B.default.weight', 'module.base_model.model.model.layers.27.self_attn.k_proj.base_layer.weight', 'module.base_model.model.model.layers.27.self_attn.k_proj.lora_A.default.weight', 'module.base_model.model.model.layers.27.self_attn.k_proj.lora_B.default.weight', 'module.base_model.model.model.layers.27.self_attn.v_proj.base_layer.weight', 'module.base_model.model.model.layers.27.self_attn.v_proj.lora_A.default.weight', 'module.base_model.model.model.layers.27.self_attn.v_proj.lora_B.default.weight', 'module.base_model.model.model.layers.27.self_attn.o_proj.base_layer.weight', 'module.base_model.model.model.layers.27.self_attn.o_proj.lora_A.default.weight', 'module.base_model.model.model.layers.27.self_attn.o_proj.lora_B.default.weight', 'module.base_model.model.model.layers.27.self_attn.rotary_emb.inv_freq', 'module.base_model.model.model.layers.27.mlp.gate_proj.base_layer.weight', 'module.base_model.model.model.layers.27.mlp.gate_proj.lora_A.default.weight', 'module.base_model.model.model.layers.27.mlp.gate_proj.lora_B.default.weight', 'module.base_model.model.model.layers.27.mlp.up_proj.base_layer.weight', 'module.base_model.model.model.layers.27.mlp.up_proj.lora_A.default.weight', 'module.base_model.model.model.layers.27.mlp.up_proj.lora_B.default.weight', 'module.base_model.model.model.layers.27.mlp.down_proj.base_layer.weight', 'module.base_model.model.model.layers.27.mlp.down_proj.lora_A.default.weight', 'module.base_model.model.model.layers.27.mlp.down_proj.lora_B.default.weight', 'module.base_model.model.model.layers.27.input_layernorm.weight', 'module.base_model.model.model.layers.27.post_attention_layernorm.weight', 'module.base_model.model.model.layers.28.self_attn.q_proj.base_layer.weight', 'module.base_model.model.model.layers.28.self_attn.q_proj.lora_A.default.weight', 'module.base_model.model.model.layers.28.self_attn.q_proj.lora_B.default.weight', 'module.base_model.model.model.layers.28.self_attn.k_proj.base_layer.weight', 'module.base_model.model.model.layers.28.self_attn.k_proj.lora_A.default.weight', 'module.base_model.model.model.layers.28.self_attn.k_proj.lora_B.default.weight', 'module.base_model.model.model.layers.28.self_attn.v_proj.base_layer.weight', 'module.base_model.model.model.layers.28.self_attn.v_proj.lora_A.default.weight', 'module.base_model.model.model.layers.28.self_attn.v_proj.lora_B.default.weight', 'module.base_model.model.model.layers.28.self_attn.o_proj.base_layer.weight', 'module.base_model.model.model.layers.28.self_attn.o_proj.lora_A.default.weight', 'module.base_model.model.model.layers.28.self_attn.o_proj.lora_B.default.weight', 'module.base_model.model.model.layers.28.self_attn.rotary_emb.inv_freq', 'module.base_model.model.model.layers.28.mlp.gate_proj.base_layer.weight', 'module.base_model.model.model.layers.28.mlp.gate_proj.lora_A.default.weight', 'module.base_model.model.model.layers.28.mlp.gate_proj.lora_B.default.weight', 'module.base_model.model.model.layers.28.mlp.up_proj.base_layer.weight', 'module.base_model.model.model.layers.28.mlp.up_proj.lora_A.default.weight', 'module.base_model.model.model.layers.28.mlp.up_proj.lora_B.default.weight', 'module.base_model.model.model.layers.28.mlp.down_proj.base_layer.weight', 'module.base_model.model.model.layers.28.mlp.down_proj.lora_A.default.weight', 'module.base_model.model.model.layers.28.mlp.down_proj.lora_B.default.weight', 'module.base_model.model.model.layers.28.input_layernorm.weight', 'module.base_model.model.model.layers.28.post_attention_layernorm.weight', 'module.base_model.model.model.layers.29.self_attn.q_proj.base_layer.weight', 'module.base_model.model.model.layers.29.self_attn.q_proj.lora_A.default.weight', 'module.base_model.model.model.layers.29.self_attn.q_proj.lora_B.default.weight', 'module.base_model.model.model.layers.29.self_attn.k_proj.base_layer.weight', 'module.base_model.model.model.layers.29.self_attn.k_proj.lora_A.default.weight', 'module.base_model.model.model.layers.29.self_attn.k_proj.lora_B.default.weight', 'module.base_model.model.model.layers.29.self_attn.v_proj.base_layer.weight', 'module.base_model.model.model.layers.29.self_attn.v_proj.lora_A.default.weight', 'module.base_model.model.model.layers.29.self_attn.v_proj.lora_B.default.weight', 'module.base_model.model.model.layers.29.self_attn.o_proj.base_layer.weight', 'module.base_model.model.model.layers.29.self_attn.o_proj.lora_A.default.weight', 'module.base_model.model.model.layers.29.self_attn.o_proj.lora_B.default.weight', 'module.base_model.model.model.layers.29.self_attn.rotary_emb.inv_freq', 'module.base_model.model.model.layers.29.mlp.gate_proj.base_layer.weight', 'module.base_model.model.model.layers.29.mlp.gate_proj.lora_A.default.weight', 'module.base_model.model.model.layers.29.mlp.gate_proj.lora_B.default.weight', 'module.base_model.model.model.layers.29.mlp.up_proj.base_layer.weight', 'module.base_model.model.model.layers.29.mlp.up_proj.lora_A.default.weight', 'module.base_model.model.model.layers.29.mlp.up_proj.lora_B.default.weight', 'module.base_model.model.model.layers.29.mlp.down_proj.base_layer.weight', 'module.base_model.model.model.layers.29.mlp.down_proj.lora_A.default.weight', 'module.base_model.model.model.layers.29.mlp.down_proj.lora_B.default.weight', 'module.base_model.model.model.layers.29.input_layernorm.weight', 'module.base_model.model.model.layers.29.post_attention_layernorm.weight', 'module.base_model.model.model.layers.30.self_attn.q_proj.base_layer.weight', 'module.base_model.model.model.layers.30.self_attn.q_proj.lora_A.default.weight', 'module.base_model.model.model.layers.30.self_attn.q_proj.lora_B.default.weight', 'module.base_model.model.model.layers.30.self_attn.k_proj.base_layer.weight', 'module.base_model.model.model.layers.30.self_attn.k_proj.lora_A.default.weight', 'module.base_model.model.model.layers.30.self_attn.k_proj.lora_B.default.weight', 'module.base_model.model.model.layers.30.self_attn.v_proj.base_layer.weight', 'module.base_model.model.model.layers.30.self_attn.v_proj.lora_A.default.weight', 'module.base_model.model.model.layers.30.self_attn.v_proj.lora_B.default.weight', 'module.base_model.model.model.layers.30.self_attn.o_proj.base_layer.weight', 'module.base_model.model.model.layers.30.self_attn.o_proj.lora_A.default.weight', 'module.base_model.model.model.layers.30.self_attn.o_proj.lora_B.default.weight', 'module.base_model.model.model.layers.30.self_attn.rotary_emb.inv_freq', 'module.base_model.model.model.layers.30.mlp.gate_proj.base_layer.weight', 'module.base_model.model.model.layers.30.mlp.gate_proj.lora_A.default.weight', 'module.base_model.model.model.layers.30.mlp.gate_proj.lora_B.default.weight', 'module.base_model.model.model.layers.30.mlp.up_proj.base_layer.weight', 'module.base_model.model.model.layers.30.mlp.up_proj.lora_A.default.weight', 'module.base_model.model.model.layers.30.mlp.up_proj.lora_B.default.weight', 'module.base_model.model.model.layers.30.mlp.down_proj.base_layer.weight', 'module.base_model.model.model.layers.30.mlp.down_proj.lora_A.default.weight', 'module.base_model.model.model.layers.30.mlp.down_proj.lora_B.default.weight', 'module.base_model.model.model.layers.30.input_layernorm.weight', 'module.base_model.model.model.layers.30.post_attention_layernorm.weight', 'module.base_model.model.model.layers.31.self_attn.q_proj.base_layer.weight', 'module.base_model.model.model.layers.31.self_attn.q_proj.lora_A.default.weight', 'module.base_model.model.model.layers.31.self_attn.q_proj.lora_B.default.weight', 'module.base_model.model.model.layers.31.self_attn.k_proj.base_layer.weight', 'module.base_model.model.model.layers.31.self_attn.k_proj.lora_A.default.weight', 'module.base_model.model.model.layers.31.self_attn.k_proj.lora_B.default.weight', 'module.base_model.model.model.layers.31.self_attn.v_proj.base_layer.weight', 'module.base_model.model.model.layers.31.self_attn.v_proj.lora_A.default.weight', 'module.base_model.model.model.layers.31.self_attn.v_proj.lora_B.default.weight', 'module.base_model.model.model.layers.31.self_attn.o_proj.base_layer.weight', 'module.base_model.model.model.layers.31.self_attn.o_proj.lora_A.default.weight', 'module.base_model.model.model.layers.31.self_attn.o_proj.lora_B.default.weight', 'module.base_model.model.model.layers.31.self_attn.rotary_emb.inv_freq', 'module.base_model.model.model.layers.31.mlp.gate_proj.base_layer.weight', 'module.base_model.model.model.layers.31.mlp.gate_proj.lora_A.default.weight', 'module.base_model.model.model.layers.31.mlp.gate_proj.lora_B.default.weight', 'module.base_model.model.model.layers.31.mlp.up_proj.base_layer.weight', 'module.base_model.model.model.layers.31.mlp.up_proj.lora_A.default.weight', 'module.base_model.model.model.layers.31.mlp.up_proj.lora_B.default.weight', 'module.base_model.model.model.layers.31.mlp.down_proj.base_layer.weight', 'module.base_model.model.model.layers.31.mlp.down_proj.lora_A.default.weight', 'module.base_model.model.model.layers.31.mlp.down_proj.lora_B.default.weight', 'module.base_model.model.model.layers.31.input_layernorm.weight', 'module.base_model.model.model.layers.31.post_attention_layernorm.weight', 'module.base_model.model.model.norm.weight', 'module.base_model.model.lm_head.weight'])"
      ]
     },
     "execution_count": 9,
     "metadata": {},
     "output_type": "execute_result"
    }
   ],
   "source": [
    "state_dict.keys()"
   ]
  },
  {
   "cell_type": "markdown",
   "metadata": {},
   "source": [
    "# 加载模型 from lora"
   ]
  },
  {
   "cell_type": "code",
   "execution_count": 1,
   "metadata": {},
   "outputs": [
    {
     "name": "stderr",
     "output_type": "stream",
     "text": [
      "You are using the legacy behaviour of the <class 'transformers.models.llama.tokenization_llama.LlamaTokenizer'>. This means that tokens that come after special tokens will not be properly handled. We recommend you to read the related pull request available at https://github.com/huggingface/transformers/pull/24565\n"
     ]
    },
    {
     "data": {
      "application/vnd.jupyter.widget-view+json": {
       "model_id": "12b9ba8b4ab64884aef1e3a4f3775faa",
       "version_major": 2,
       "version_minor": 0
      },
      "text/plain": [
       "Loading checkpoint shards:   0%|          | 0/2 [00:00<?, ?it/s]"
      ]
     },
     "metadata": {},
     "output_type": "display_data"
    }
   ],
   "source": [
    "lora_path = '/home/mxd/archive/FastChat/checkpoints/rank8_0118_constant_1e-4_099_6ep/checkpoint-5046'\n",
    "base_path = '/home/mxd/archive/hf_mirror/llama-7b-hf' \n",
    "\n",
    "from transformers import AutoTokenizer, AutoModelForCausalLM\n",
    "from peft import PeftModel\n",
    "tokenizer = AutoTokenizer.from_pretrained(base_path)\n",
    "\n",
    "model = AutoModelForCausalLM.from_pretrained(base_path)\n",
    "model = PeftModel.from_pretrained(model, lora_path)"
   ]
  },
  {
   "cell_type": "code",
   "execution_count": 3,
   "metadata": {},
   "outputs": [
    {
     "data": {
      "text/plain": [
       "('/home/mxd/archive/FastChat/checkpoints/rank8_0118_constant_1e-4_099_6ep_checkpoint-5046/tokenizer_config.json',\n",
       " '/home/mxd/archive/FastChat/checkpoints/rank8_0118_constant_1e-4_099_6ep_checkpoint-5046/special_tokens_map.json',\n",
       " '/home/mxd/archive/FastChat/checkpoints/rank8_0118_constant_1e-4_099_6ep_checkpoint-5046/tokenizer.model',\n",
       " '/home/mxd/archive/FastChat/checkpoints/rank8_0118_constant_1e-4_099_6ep_checkpoint-5046/added_tokens.json',\n",
       " '/home/mxd/archive/FastChat/checkpoints/rank8_0118_constant_1e-4_099_6ep_checkpoint-5046/tokenizer.json')"
      ]
     },
     "execution_count": 3,
     "metadata": {},
     "output_type": "execute_result"
    }
   ],
   "source": [
    "model = model.merge_and_unload()\n",
    "\n",
    "save_path = '/home/mxd/archive/FastChat/checkpoints/rank8_0118_constant_1e-4_099_6ep_checkpoint-5046'\n",
    "\n",
    "model.save_pretrained(save_path)\n",
    "tokenizer.save_pretrained(save_path)"
   ]
  },
  {
   "cell_type": "markdown",
   "metadata": {},
   "source": [
    "# modelscope\n"
   ]
  },
  {
   "cell_type": "code",
   "execution_count": 1,
   "metadata": {},
   "outputs": [
    {
     "name": "stderr",
     "output_type": "stream",
     "text": [
      "2024-01-21 11:25:02,885 - modelscope - INFO - PyTorch version 2.1.2+cu118 Found.\n",
      "2024-01-21 11:25:02,887 - modelscope - INFO - Loading ast index from /home/mxd/.cache/modelscope/ast_indexer\n",
      "2024-01-21 11:25:02,922 - modelscope - INFO - Loading done! Current index file version is 1.11.0, with md5 d1a5118a57bce80c9af92a2fdd7e0f0f and a total number of 953 components indexed\n",
      "2024-01-21 11:39:40,007 - modelscope - INFO - [master eb12996] 'upload model'\n",
      " 13 files changed, 45552 insertions(+), 13 deletions(-)\n",
      " create mode 100644 2523-savemodel.pth\n",
      " create mode 100644 5046-savemodel.pth\n",
      " create mode 100644 7569-savemodel.pth\n",
      " delete mode 100644 README.md\n",
      " create mode 100644 config.json\n",
      " create mode 100644 generation_config.json\n",
      " create mode 100644 pytorch_model-00001-of-00002.bin\n",
      " create mode 100644 pytorch_model-00002-of-00002.bin\n",
      " create mode 100644 pytorch_model.bin.index.json\n",
      " create mode 100644 special_tokens_map.json\n",
      " create mode 100644 tokenizer.model\n",
      " create mode 100644 tokenizer_config.json\n",
      " create mode 100644 trainer_state.json\n",
      "\n"
     ]
    }
   ],
   "source": [
    "from modelscope.hub.api import HubApi\n",
    "\n",
    "YOUR_ACCESS_TOKEN = 'f3699f4c-f2df-4f31-b390-4eb6ff3ecf17'\n",
    "\n",
    "api = HubApi()\n",
    "api.login(YOUR_ACCESS_TOKEN)\n",
    "api.push_model(\n",
    "    model_id=\"tanhe777/muti_llama\", \n",
    "    model_dir=\"/home/mxd/archive/FastChat/checkpoints/plora_r8_0119_interval400_1e-4_099_constant_07lora_3save\" # 本地模型目录，要求目录中必须包含configuration.json\n",
    ")"
   ]
  }
 ],
 "metadata": {
  "kernelspec": {
   "display_name": "Python 3",
   "language": "python",
   "name": "python3"
  },
  "language_info": {
   "codemirror_mode": {
    "name": "ipython",
    "version": 3
   },
   "file_extension": ".py",
   "mimetype": "text/x-python",
   "name": "python",
   "nbconvert_exporter": "python",
   "pygments_lexer": "ipython3",
   "version": "3.10.4"
  }
 },
 "nbformat": 4,
 "nbformat_minor": 2
}
